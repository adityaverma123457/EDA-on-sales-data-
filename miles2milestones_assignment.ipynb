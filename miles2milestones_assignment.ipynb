{
  "nbformat": 4,
  "nbformat_minor": 0,
  "metadata": {
    "colab": {
      "name": "miles2milestones assignment.ipynb",
      "provenance": [],
      "collapsed_sections": []
    },
    "kernelspec": {
      "name": "python3",
      "display_name": "Python 3"
    },
    "language_info": {
      "name": "python"
    },
    "accelerator": "GPU"
  },
  "cells": [
    {
      "cell_type": "code",
      "metadata": {
        "id": "KaJDBixOcnAD"
      },
      "source": [
        "import pandas as pd\n",
        "import numpy as np\n",
        "import matplotlib.pyplot as plt\n",
        "import seaborn as sns\n"
      ],
      "execution_count": null,
      "outputs": []
    },
    {
      "cell_type": "markdown",
      "metadata": {
        "id": "j_o8tIjBeHzB"
      },
      "source": [
        "TASK DESCRIPTION\n",
        "\n",
        "\n",
        "Based on sales data for the month of September. Using this data, please try to answer  the below and come up with additional insights if any: \n",
        "Using these data, create following visualizations: \n",
        "1. Sales conversion & revenue generated with respect to Trainers with grade wise drilldown.ie,  represent the number of conversions made by each Trainer grade wise. \n",
        "2. Sales conversion & revenue generated with respect to Trainers with Topic wise drilldown. 3. Sales conversion & revenue generated with respect to Topic \n",
        "4. Sales conversion & revenue generated with respect to grade \n",
        "5. Sales conversions made, revenue generated & incentive received by each sales person if 10%  of revenue from each deal secured by the sales person goes to him/her as incentive. \n",
        "6. Time taken for Sales conversion \n"
      ]
    },
    {
      "cell_type": "markdown",
      "metadata": {
        "id": "zlWHu-eEetz8"
      },
      "source": [
        "Field details: \n",
        "1. Trial Class Batch – Batch ID of the Trial Class that child attended \n",
        "2. Date of Trial – The date when child attended the Trial class \n",
        "3. Child Name (anonymous child name - Don’t use for mapping) – Child Name (Don’t use  as ID) \n",
        "4. Deal – Stage – Stage of the funnel where the child is \n",
        "5. Deal – Owner – The sales person assigned to that user \n",
        "6. Deal – Value – Amount Paid by User \n",
        "7. Person – Phone – Phone number of Parent \n",
        "8. Person – Email – Email of the Parent \n",
        "9. Person - Person UUID – Unique ID provided to the child \n",
        "10. Person – Grade – Grade of the child \n",
        "11. Deal - Deal closed on – Date when the deal is closed \n",
        "12. Deal - Deal created – date when the deal is created \n",
        "13. Deal - Last activity date – date of last activity \n",
        "14. Deal – Pipeline – The pipeline in which the lead is \n",
        "15. Deal – Status – status of the lead \n",
        "16. Deal - Update time – date of last update \n",
        "17. Deal - Won time – date of lead won  \n",
        "18. Person - Total Live Classes - Total live classes bought \n",
        "19. Person - Trial Class Topic – Topic of the trial class \n",
        "20. Person - Facilitator Name – Trainer for the trial class\n"
      ]
    },
    {
      "cell_type": "code",
      "metadata": {
        "id": "h9krirHGFjwP"
      },
      "source": [
        "data = pd.read_excel('/content/drive/MyDrive/APPLIED AI ASSIGNMENTS ipynb/Data_analyst_assignment_v2 (1).xlsx')"
      ],
      "execution_count": null,
      "outputs": []
    },
    {
      "cell_type": "code",
      "metadata": {
        "colab": {
          "base_uri": "https://localhost:8080/"
        },
        "id": "2D8Jz5Lsem9n",
        "outputId": "93f281a0-9c2e-469b-f186-0886e23bb242"
      },
      "source": [
        "\n",
        "data.columns"
      ],
      "execution_count": null,
      "outputs": [
        {
          "output_type": "execute_result",
          "data": {
            "text/plain": [
              "Index(['Trial Class Batch', 'Date of Trial',\n",
              "       'Child Name (anonymous child name - Don’t use for mapping)',\n",
              "       'Deal - Stage', 'Deal - Owner', 'Deal - Value', 'Person - Phone',\n",
              "       'Person - Email', 'Person - Person UUID', 'Person - Grade',\n",
              "       'Deal - Deal closed on', 'Deal - Deal created',\n",
              "       'Deal - Last activity date', 'Deal - Pipeline', 'Deal - Status',\n",
              "       'Deal - Update time', 'Deal - Won time', 'Person - Total Live Classes',\n",
              "       'Person - Trial Class Topic', 'Person - Facilitator Name'],\n",
              "      dtype='object')"
            ]
          },
          "metadata": {},
          "execution_count": 3
        }
      ]
    },
    {
      "cell_type": "code",
      "metadata": {
        "colab": {
          "base_uri": "https://localhost:8080/",
          "height": 456
        },
        "id": "Ee2dZJFtR577",
        "outputId": "f45d8bc1-3ff5-4587-bb2e-553cf772f842"
      },
      "source": [
        "data.head(3)"
      ],
      "execution_count": null,
      "outputs": [
        {
          "output_type": "execute_result",
          "data": {
            "text/html": [
              "<div>\n",
              "<style scoped>\n",
              "    .dataframe tbody tr th:only-of-type {\n",
              "        vertical-align: middle;\n",
              "    }\n",
              "\n",
              "    .dataframe tbody tr th {\n",
              "        vertical-align: top;\n",
              "    }\n",
              "\n",
              "    .dataframe thead th {\n",
              "        text-align: right;\n",
              "    }\n",
              "</style>\n",
              "<table border=\"1\" class=\"dataframe\">\n",
              "  <thead>\n",
              "    <tr style=\"text-align: right;\">\n",
              "      <th></th>\n",
              "      <th>Trial Class Batch</th>\n",
              "      <th>Date of Trial</th>\n",
              "      <th>Child Name (anonymous child name - Don’t use for mapping)</th>\n",
              "      <th>Deal - Stage</th>\n",
              "      <th>Deal - Owner</th>\n",
              "      <th>Deal - Value</th>\n",
              "      <th>Person - Phone</th>\n",
              "      <th>Person - Email</th>\n",
              "      <th>Person - Person UUID</th>\n",
              "      <th>Person - Grade</th>\n",
              "      <th>Deal - Deal closed on</th>\n",
              "      <th>Deal - Deal created</th>\n",
              "      <th>Deal - Last activity date</th>\n",
              "      <th>Deal - Pipeline</th>\n",
              "      <th>Deal - Status</th>\n",
              "      <th>Deal - Update time</th>\n",
              "      <th>Deal - Won time</th>\n",
              "      <th>Person - Total Live Classes</th>\n",
              "      <th>Person - Trial Class Topic</th>\n",
              "      <th>Person - Facilitator Name</th>\n",
              "    </tr>\n",
              "  </thead>\n",
              "  <tbody>\n",
              "    <tr>\n",
              "      <th>0</th>\n",
              "      <td>fREADom Trial II - Grade 1,2 04-09-2020 16:00:00</td>\n",
              "      <td>2020-09-04</td>\n",
              "      <td>CHILD_NAME_0010001</td>\n",
              "      <td>Trial Class Attended</td>\n",
              "      <td>Adarsh</td>\n",
              "      <td>0</td>\n",
              "      <td>911100221000</td>\n",
              "      <td>s2m_test_20001@tests2m.com</td>\n",
              "      <td>f2b6db38-8f1b-4bd5-8a69-37bb62c8d36f</td>\n",
              "      <td>Grade 1</td>\n",
              "      <td>NaT</td>\n",
              "      <td>2020-09-04 22:26:10</td>\n",
              "      <td>NaT</td>\n",
              "      <td>fREADom Conversion</td>\n",
              "      <td>Open</td>\n",
              "      <td>2020-09-05 12:21:08</td>\n",
              "      <td>NaT</td>\n",
              "      <td>NaN</td>\n",
              "      <td>Category Spin</td>\n",
              "      <td>FLTR0103</td>\n",
              "    </tr>\n",
              "    <tr>\n",
              "      <th>1</th>\n",
              "      <td>fREADom Trial XXIX - Grade 1,2 25-09-2020 17:1...</td>\n",
              "      <td>2020-09-25</td>\n",
              "      <td>CHILD_NAME_0010002</td>\n",
              "      <td>Paid</td>\n",
              "      <td>Ankita</td>\n",
              "      <td>4999</td>\n",
              "      <td>911100221000</td>\n",
              "      <td>s2m_test_20002@tests2m.com</td>\n",
              "      <td>f9c7ff46-a030-4985-ba0b-cb3cef2c18d7</td>\n",
              "      <td>Senior KG</td>\n",
              "      <td>NaT</td>\n",
              "      <td>2020-09-25 18:04:15</td>\n",
              "      <td>2020-09-27</td>\n",
              "      <td>fREADom Conversion</td>\n",
              "      <td>Open</td>\n",
              "      <td>2020-09-27 23:46:54</td>\n",
              "      <td>NaT</td>\n",
              "      <td>32.0</td>\n",
              "      <td>Words &amp; Stories</td>\n",
              "      <td>FLTR0104</td>\n",
              "    </tr>\n",
              "    <tr>\n",
              "      <th>2</th>\n",
              "      <td>fREADom Trial VII - Grade 1,2 29-09-2020 17:15:00</td>\n",
              "      <td>2020-09-29</td>\n",
              "      <td>CHILD_NAME_0010003</td>\n",
              "      <td>Trial Class Attended</td>\n",
              "      <td>Nikita</td>\n",
              "      <td>0</td>\n",
              "      <td>911100221000</td>\n",
              "      <td>s2m_test_20003@tests2m.com</td>\n",
              "      <td>d47e63bb-1579-48ef-9868-2fce77e831db</td>\n",
              "      <td>Grade 1</td>\n",
              "      <td>NaT</td>\n",
              "      <td>2020-09-29 18:11:06</td>\n",
              "      <td>NaT</td>\n",
              "      <td>fREADom Conversion</td>\n",
              "      <td>Open</td>\n",
              "      <td>2020-10-01 10:40:56</td>\n",
              "      <td>NaT</td>\n",
              "      <td>NaN</td>\n",
              "      <td>Category Spin</td>\n",
              "      <td>FLTR0104</td>\n",
              "    </tr>\n",
              "  </tbody>\n",
              "</table>\n",
              "</div>"
            ],
            "text/plain": [
              "                                   Trial Class Batch  ... Person - Facilitator Name\n",
              "0   fREADom Trial II - Grade 1,2 04-09-2020 16:00:00  ...                  FLTR0103\n",
              "1  fREADom Trial XXIX - Grade 1,2 25-09-2020 17:1...  ...                  FLTR0104\n",
              "2  fREADom Trial VII - Grade 1,2 29-09-2020 17:15:00  ...                  FLTR0104\n",
              "\n",
              "[3 rows x 20 columns]"
            ]
          },
          "metadata": {},
          "execution_count": 4
        }
      ]
    },
    {
      "cell_type": "code",
      "metadata": {
        "id": "BtqGQbzmdKEv"
      },
      "source": [
        "df = data.loc[:,['Date of Trial','Deal - Stage','Deal - Owner', 'Deal - Value','Person - Person UUID','Person - Grade',\n",
        "       'Deal - Deal closed on', 'Deal - Deal created',\n",
        "       'Deal - Last activity date', 'Deal - Pipeline', 'Deal - Status',\n",
        "       'Deal - Update time', 'Deal - Won time', 'Person - Total Live Classes',\n",
        "       'Person - Trial Class Topic', 'Person - Facilitator Name']]"
      ],
      "execution_count": null,
      "outputs": []
    },
    {
      "cell_type": "code",
      "metadata": {
        "colab": {
          "base_uri": "https://localhost:8080/"
        },
        "id": "GAgHbT4jBSIm",
        "outputId": "0654aabf-c31b-42d3-83d6-0de9425a1c96"
      },
      "source": [
        "df.columns.values"
      ],
      "execution_count": null,
      "outputs": [
        {
          "output_type": "execute_result",
          "data": {
            "text/plain": [
              "array(['Date of Trial', 'Deal - Stage', 'Deal - Owner', 'Deal - Value',\n",
              "       'Person - Person UUID', 'Person - Grade', 'Deal - Deal closed on',\n",
              "       'Deal - Deal created', 'Deal - Last activity date',\n",
              "       'Deal - Pipeline', 'Deal - Status', 'Deal - Update time',\n",
              "       'Deal - Won time', 'Person - Total Live Classes',\n",
              "       'Person - Trial Class Topic', 'Person - Facilitator Name'],\n",
              "      dtype=object)"
            ]
          },
          "metadata": {},
          "execution_count": 6
        }
      ]
    },
    {
      "cell_type": "code",
      "metadata": {
        "id": "9C29a2OC_oBx"
      },
      "source": [
        "import re\n",
        "#data.columns.values = re.sub(' | - ','_',data.columns.values )\n",
        "df = df.rename(columns=lambda x: re.sub(' - | ','_',x))"
      ],
      "execution_count": null,
      "outputs": []
    },
    {
      "cell_type": "code",
      "metadata": {
        "colab": {
          "base_uri": "https://localhost:8080/"
        },
        "id": "h7LFhuOVCE0e",
        "outputId": "cde43404-6ed0-4b21-c6b7-1a6d608c08a5"
      },
      "source": [
        "df.columns"
      ],
      "execution_count": null,
      "outputs": [
        {
          "output_type": "execute_result",
          "data": {
            "text/plain": [
              "Index(['Date_of_Trial', 'Deal_Stage', 'Deal_Owner', 'Deal_Value',\n",
              "       'Person_Person_UUID', 'Person_Grade', 'Deal_Deal_closed_on',\n",
              "       'Deal_Deal_created', 'Deal_Last_activity_date', 'Deal_Pipeline',\n",
              "       'Deal_Status', 'Deal_Update_time', 'Deal_Won_time',\n",
              "       'Person_Total_Live_Classes', 'Person_Trial_Class_Topic',\n",
              "       'Person_Facilitator_Name'],\n",
              "      dtype='object')"
            ]
          },
          "metadata": {},
          "execution_count": 8
        }
      ]
    },
    {
      "cell_type": "code",
      "metadata": {
        "id": "wwjcbrZQ-8fX"
      },
      "source": [
        ""
      ],
      "execution_count": null,
      "outputs": []
    },
    {
      "cell_type": "code",
      "metadata": {
        "colab": {
          "base_uri": "https://localhost:8080/",
          "height": 617
        },
        "id": "dQ_EVNqw-wN-",
        "outputId": "e55f7f82-217c-4825-f778-70040c58d426"
      },
      "source": [
        "d = {'Person_Person_UUID':'Person_uuid', 'Deal_Deal_closed_on':'Deal_closed_on',\n",
        "       'Deal_Deal_created':'Deal_created'}\n",
        "df = df.rename(columns=d,inplace=False)\n",
        "df.columns\n",
        "df"
      ],
      "execution_count": null,
      "outputs": [
        {
          "output_type": "execute_result",
          "data": {
            "text/html": [
              "<div>\n",
              "<style scoped>\n",
              "    .dataframe tbody tr th:only-of-type {\n",
              "        vertical-align: middle;\n",
              "    }\n",
              "\n",
              "    .dataframe tbody tr th {\n",
              "        vertical-align: top;\n",
              "    }\n",
              "\n",
              "    .dataframe thead th {\n",
              "        text-align: right;\n",
              "    }\n",
              "</style>\n",
              "<table border=\"1\" class=\"dataframe\">\n",
              "  <thead>\n",
              "    <tr style=\"text-align: right;\">\n",
              "      <th></th>\n",
              "      <th>Date_of_Trial</th>\n",
              "      <th>Deal_Stage</th>\n",
              "      <th>Deal_Owner</th>\n",
              "      <th>Deal_Value</th>\n",
              "      <th>Person_uuid</th>\n",
              "      <th>Person_Grade</th>\n",
              "      <th>Deal_closed_on</th>\n",
              "      <th>Deal_created</th>\n",
              "      <th>Deal_Last_activity_date</th>\n",
              "      <th>Deal_Pipeline</th>\n",
              "      <th>Deal_Status</th>\n",
              "      <th>Deal_Update_time</th>\n",
              "      <th>Deal_Won_time</th>\n",
              "      <th>Person_Total_Live_Classes</th>\n",
              "      <th>Person_Trial_Class_Topic</th>\n",
              "      <th>Person_Facilitator_Name</th>\n",
              "    </tr>\n",
              "  </thead>\n",
              "  <tbody>\n",
              "    <tr>\n",
              "      <th>0</th>\n",
              "      <td>2020-09-04</td>\n",
              "      <td>Trial Class Attended</td>\n",
              "      <td>Adarsh</td>\n",
              "      <td>0</td>\n",
              "      <td>f2b6db38-8f1b-4bd5-8a69-37bb62c8d36f</td>\n",
              "      <td>Grade 1</td>\n",
              "      <td>NaT</td>\n",
              "      <td>2020-09-04 22:26:10</td>\n",
              "      <td>NaT</td>\n",
              "      <td>fREADom Conversion</td>\n",
              "      <td>Open</td>\n",
              "      <td>2020-09-05 12:21:08</td>\n",
              "      <td>NaT</td>\n",
              "      <td>NaN</td>\n",
              "      <td>Category Spin</td>\n",
              "      <td>FLTR0103</td>\n",
              "    </tr>\n",
              "    <tr>\n",
              "      <th>1</th>\n",
              "      <td>2020-09-25</td>\n",
              "      <td>Paid</td>\n",
              "      <td>Ankita</td>\n",
              "      <td>4999</td>\n",
              "      <td>f9c7ff46-a030-4985-ba0b-cb3cef2c18d7</td>\n",
              "      <td>Senior KG</td>\n",
              "      <td>NaT</td>\n",
              "      <td>2020-09-25 18:04:15</td>\n",
              "      <td>2020-09-27</td>\n",
              "      <td>fREADom Conversion</td>\n",
              "      <td>Open</td>\n",
              "      <td>2020-09-27 23:46:54</td>\n",
              "      <td>NaT</td>\n",
              "      <td>32.0</td>\n",
              "      <td>Words &amp; Stories</td>\n",
              "      <td>FLTR0104</td>\n",
              "    </tr>\n",
              "    <tr>\n",
              "      <th>2</th>\n",
              "      <td>2020-09-29</td>\n",
              "      <td>Trial Class Attended</td>\n",
              "      <td>Nikita</td>\n",
              "      <td>0</td>\n",
              "      <td>d47e63bb-1579-48ef-9868-2fce77e831db</td>\n",
              "      <td>Grade 1</td>\n",
              "      <td>NaT</td>\n",
              "      <td>2020-09-29 18:11:06</td>\n",
              "      <td>NaT</td>\n",
              "      <td>fREADom Conversion</td>\n",
              "      <td>Open</td>\n",
              "      <td>2020-10-01 10:40:56</td>\n",
              "      <td>NaT</td>\n",
              "      <td>NaN</td>\n",
              "      <td>Category Spin</td>\n",
              "      <td>FLTR0104</td>\n",
              "    </tr>\n",
              "    <tr>\n",
              "      <th>3</th>\n",
              "      <td>2020-09-24</td>\n",
              "      <td>Not Interested</td>\n",
              "      <td>Vibhor</td>\n",
              "      <td>0</td>\n",
              "      <td>e12f0129-2cc7-47ff-bf59-a31b4f20522d</td>\n",
              "      <td>Senior KG</td>\n",
              "      <td>NaT</td>\n",
              "      <td>2020-09-24 18:09:01</td>\n",
              "      <td>2020-09-25</td>\n",
              "      <td>fREADom Conversion</td>\n",
              "      <td>Open</td>\n",
              "      <td>2020-09-25 17:28:24</td>\n",
              "      <td>NaT</td>\n",
              "      <td>NaN</td>\n",
              "      <td>Words &amp; Stories</td>\n",
              "      <td>FLTR0104</td>\n",
              "    </tr>\n",
              "    <tr>\n",
              "      <th>4</th>\n",
              "      <td>2020-09-24</td>\n",
              "      <td>Not Interested</td>\n",
              "      <td>Vibhor</td>\n",
              "      <td>0</td>\n",
              "      <td>eae8a70e-5aad-467e-a9c9-ed21b662044c</td>\n",
              "      <td>Senior KG</td>\n",
              "      <td>NaT</td>\n",
              "      <td>2020-09-24 18:09:32</td>\n",
              "      <td>2020-09-26</td>\n",
              "      <td>fREADom Conversion</td>\n",
              "      <td>Open</td>\n",
              "      <td>2020-09-26 14:47:02</td>\n",
              "      <td>NaT</td>\n",
              "      <td>NaN</td>\n",
              "      <td>Words &amp; Stories</td>\n",
              "      <td>FLTR0104</td>\n",
              "    </tr>\n",
              "    <tr>\n",
              "      <th>...</th>\n",
              "      <td>...</td>\n",
              "      <td>...</td>\n",
              "      <td>...</td>\n",
              "      <td>...</td>\n",
              "      <td>...</td>\n",
              "      <td>...</td>\n",
              "      <td>...</td>\n",
              "      <td>...</td>\n",
              "      <td>...</td>\n",
              "      <td>...</td>\n",
              "      <td>...</td>\n",
              "      <td>...</td>\n",
              "      <td>...</td>\n",
              "      <td>...</td>\n",
              "      <td>...</td>\n",
              "      <td>...</td>\n",
              "    </tr>\n",
              "    <tr>\n",
              "      <th>13559</th>\n",
              "      <td>2020-09-17</td>\n",
              "      <td>Trial Class Attended</td>\n",
              "      <td>Adarsh</td>\n",
              "      <td>0</td>\n",
              "      <td>7b438159-7931-49bf-8b6f-391d2c803607</td>\n",
              "      <td>Grade 3</td>\n",
              "      <td>NaT</td>\n",
              "      <td>2020-09-17 21:00:32</td>\n",
              "      <td>NaT</td>\n",
              "      <td>fREADom Conversion</td>\n",
              "      <td>Open</td>\n",
              "      <td>2020-09-19 14:21:15</td>\n",
              "      <td>NaT</td>\n",
              "      <td>NaN</td>\n",
              "      <td>Compare Characters</td>\n",
              "      <td>FLTR0140</td>\n",
              "    </tr>\n",
              "    <tr>\n",
              "      <th>13560</th>\n",
              "      <td>2020-09-19</td>\n",
              "      <td>Paid</td>\n",
              "      <td>Sudhir</td>\n",
              "      <td>1700</td>\n",
              "      <td>247f53d0-17c0-4d17-9abe-ef140b8f2614</td>\n",
              "      <td>Senior KG</td>\n",
              "      <td>2020-09-21 19:34:15</td>\n",
              "      <td>2020-09-19 19:40:31</td>\n",
              "      <td>NaT</td>\n",
              "      <td>fREADom Conversion</td>\n",
              "      <td>Won</td>\n",
              "      <td>2020-09-21 19:34:15</td>\n",
              "      <td>2020-09-21 19:34:15</td>\n",
              "      <td>12.0</td>\n",
              "      <td>Words &amp; Stories</td>\n",
              "      <td>FLTR0108</td>\n",
              "    </tr>\n",
              "    <tr>\n",
              "      <th>13561</th>\n",
              "      <td>2020-09-16</td>\n",
              "      <td>Not Interested</td>\n",
              "      <td>Juhi</td>\n",
              "      <td>0</td>\n",
              "      <td>4bfd7cc8-d7a6-4094-b323-dc3525537d93</td>\n",
              "      <td>Grade 4</td>\n",
              "      <td>NaT</td>\n",
              "      <td>2020-09-16 18:34:04</td>\n",
              "      <td>2020-09-17</td>\n",
              "      <td>fREADom Conversion</td>\n",
              "      <td>Open</td>\n",
              "      <td>2020-09-29 10:54:06</td>\n",
              "      <td>NaT</td>\n",
              "      <td>NaN</td>\n",
              "      <td>Acrostic poem</td>\n",
              "      <td>FLTR0106</td>\n",
              "    </tr>\n",
              "    <tr>\n",
              "      <th>13562</th>\n",
              "      <td>2020-09-05</td>\n",
              "      <td>1st Call Attempted</td>\n",
              "      <td>Aman</td>\n",
              "      <td>0</td>\n",
              "      <td>12110665-d0f9-48ee-a5c7-ae2da5ea62b9</td>\n",
              "      <td>NaN</td>\n",
              "      <td>NaT</td>\n",
              "      <td>2020-09-05 23:12:22</td>\n",
              "      <td>2020-09-13</td>\n",
              "      <td>fREADom Conversion</td>\n",
              "      <td>Open</td>\n",
              "      <td>2020-09-13 11:36:12</td>\n",
              "      <td>NaT</td>\n",
              "      <td>12.0</td>\n",
              "      <td>NaN</td>\n",
              "      <td>NaN</td>\n",
              "    </tr>\n",
              "    <tr>\n",
              "      <th>13563</th>\n",
              "      <td>2020-09-05</td>\n",
              "      <td>RENEWED</td>\n",
              "      <td>Priyanshu</td>\n",
              "      <td>3000</td>\n",
              "      <td>CGI6FUOMBQ5RXRXP</td>\n",
              "      <td>Grade 4</td>\n",
              "      <td>2020-06-23 18:34:07</td>\n",
              "      <td>2020-05-22 23:14:14</td>\n",
              "      <td>2020-06-20</td>\n",
              "      <td>F-LIVE RENEWAL/Referral</td>\n",
              "      <td>Won</td>\n",
              "      <td>2020-06-23 18:34:07</td>\n",
              "      <td>2020-06-23 18:34:07</td>\n",
              "      <td>60.0</td>\n",
              "      <td>NaN</td>\n",
              "      <td>FLTR0173</td>\n",
              "    </tr>\n",
              "  </tbody>\n",
              "</table>\n",
              "<p>13564 rows × 16 columns</p>\n",
              "</div>"
            ],
            "text/plain": [
              "      Date_of_Trial  ... Person_Facilitator_Name\n",
              "0        2020-09-04  ...                FLTR0103\n",
              "1        2020-09-25  ...                FLTR0104\n",
              "2        2020-09-29  ...                FLTR0104\n",
              "3        2020-09-24  ...                FLTR0104\n",
              "4        2020-09-24  ...                FLTR0104\n",
              "...             ...  ...                     ...\n",
              "13559    2020-09-17  ...                FLTR0140\n",
              "13560    2020-09-19  ...                FLTR0108\n",
              "13561    2020-09-16  ...                FLTR0106\n",
              "13562    2020-09-05  ...                     NaN\n",
              "13563    2020-09-05  ...                FLTR0173\n",
              "\n",
              "[13564 rows x 16 columns]"
            ]
          },
          "metadata": {},
          "execution_count": 9
        }
      ]
    },
    {
      "cell_type": "code",
      "metadata": {
        "colab": {
          "base_uri": "https://localhost:8080/"
        },
        "id": "_j5mCFnzU-Nn",
        "outputId": "863cda4d-2632-47f0-8be5-699af2343d4f"
      },
      "source": [
        "df.info(null_counts=1)\n",
        "#    Person_Grade               13531 non-null  object        \n",
        "#    Deal_closed_on             976 non-null    datetime64[ns] *****\n",
        " #   Deal_Last_activity_date    8674 non-null   datetime64[ns] ***\n",
        " #   Deal_Won_time              972 non-null    datetime64[ns]***\n",
        " #   Person_Total_Live_Classes  1524 non-null   float64       ***\n",
        " #   Person_Trial_Class_Topic   13500 non-null  object        **\n",
        " #   Person_Facilitator_Name    13505 non-null  object        **"
      ],
      "execution_count": null,
      "outputs": [
        {
          "output_type": "stream",
          "name": "stdout",
          "text": [
            "<class 'pandas.core.frame.DataFrame'>\n",
            "RangeIndex: 13564 entries, 0 to 13563\n",
            "Data columns (total 16 columns):\n",
            " #   Column                     Non-Null Count  Dtype         \n",
            "---  ------                     --------------  -----         \n",
            " 0   Date_of_Trial              13564 non-null  datetime64[ns]\n",
            " 1   Deal_Stage                 13564 non-null  object        \n",
            " 2   Deal_Owner                 13564 non-null  object        \n",
            " 3   Deal_Value                 13564 non-null  int64         \n",
            " 4   Person_uuid                13564 non-null  object        \n",
            " 5   Person_Grade               13531 non-null  object        \n",
            " 6   Deal_closed_on             976 non-null    datetime64[ns]\n",
            " 7   Deal_created               13564 non-null  datetime64[ns]\n",
            " 8   Deal_Last_activity_date    8674 non-null   datetime64[ns]\n",
            " 9   Deal_Pipeline              13564 non-null  object        \n",
            " 10  Deal_Status                13564 non-null  object        \n",
            " 11  Deal_Update_time           13564 non-null  datetime64[ns]\n",
            " 12  Deal_Won_time              972 non-null    datetime64[ns]\n",
            " 13  Person_Total_Live_Classes  1524 non-null   float64       \n",
            " 14  Person_Trial_Class_Topic   13500 non-null  object        \n",
            " 15  Person_Facilitator_Name    13505 non-null  object        \n",
            "dtypes: datetime64[ns](6), float64(1), int64(1), object(8)\n",
            "memory usage: 1.7+ MB\n"
          ]
        }
      ]
    },
    {
      "cell_type": "code",
      "metadata": {
        "colab": {
          "base_uri": "https://localhost:8080/",
          "height": 206
        },
        "id": "L8uVw8BKI2BV",
        "outputId": "34945923-6325-4413-d498-8b720633e361"
      },
      "source": [
        "df[['Deal_closed_on',\t'Deal_created',\t'Deal_Last_activity_date',\t'Deal_Pipeline',\t'Deal_Status',\t'Deal_Update_time',\t'Deal_Won_time'\t]].head()"
      ],
      "execution_count": null,
      "outputs": [
        {
          "output_type": "execute_result",
          "data": {
            "text/html": [
              "<div>\n",
              "<style scoped>\n",
              "    .dataframe tbody tr th:only-of-type {\n",
              "        vertical-align: middle;\n",
              "    }\n",
              "\n",
              "    .dataframe tbody tr th {\n",
              "        vertical-align: top;\n",
              "    }\n",
              "\n",
              "    .dataframe thead th {\n",
              "        text-align: right;\n",
              "    }\n",
              "</style>\n",
              "<table border=\"1\" class=\"dataframe\">\n",
              "  <thead>\n",
              "    <tr style=\"text-align: right;\">\n",
              "      <th></th>\n",
              "      <th>Deal_closed_on</th>\n",
              "      <th>Deal_created</th>\n",
              "      <th>Deal_Last_activity_date</th>\n",
              "      <th>Deal_Pipeline</th>\n",
              "      <th>Deal_Status</th>\n",
              "      <th>Deal_Update_time</th>\n",
              "      <th>Deal_Won_time</th>\n",
              "    </tr>\n",
              "  </thead>\n",
              "  <tbody>\n",
              "    <tr>\n",
              "      <th>0</th>\n",
              "      <td>NaT</td>\n",
              "      <td>2020-09-04 22:26:10</td>\n",
              "      <td>NaT</td>\n",
              "      <td>fREADom Conversion</td>\n",
              "      <td>Open</td>\n",
              "      <td>2020-09-05 12:21:08</td>\n",
              "      <td>NaT</td>\n",
              "    </tr>\n",
              "    <tr>\n",
              "      <th>1</th>\n",
              "      <td>NaT</td>\n",
              "      <td>2020-09-25 18:04:15</td>\n",
              "      <td>2020-09-27</td>\n",
              "      <td>fREADom Conversion</td>\n",
              "      <td>Open</td>\n",
              "      <td>2020-09-27 23:46:54</td>\n",
              "      <td>NaT</td>\n",
              "    </tr>\n",
              "    <tr>\n",
              "      <th>2</th>\n",
              "      <td>NaT</td>\n",
              "      <td>2020-09-29 18:11:06</td>\n",
              "      <td>NaT</td>\n",
              "      <td>fREADom Conversion</td>\n",
              "      <td>Open</td>\n",
              "      <td>2020-10-01 10:40:56</td>\n",
              "      <td>NaT</td>\n",
              "    </tr>\n",
              "    <tr>\n",
              "      <th>3</th>\n",
              "      <td>NaT</td>\n",
              "      <td>2020-09-24 18:09:01</td>\n",
              "      <td>2020-09-25</td>\n",
              "      <td>fREADom Conversion</td>\n",
              "      <td>Open</td>\n",
              "      <td>2020-09-25 17:28:24</td>\n",
              "      <td>NaT</td>\n",
              "    </tr>\n",
              "    <tr>\n",
              "      <th>4</th>\n",
              "      <td>NaT</td>\n",
              "      <td>2020-09-24 18:09:32</td>\n",
              "      <td>2020-09-26</td>\n",
              "      <td>fREADom Conversion</td>\n",
              "      <td>Open</td>\n",
              "      <td>2020-09-26 14:47:02</td>\n",
              "      <td>NaT</td>\n",
              "    </tr>\n",
              "  </tbody>\n",
              "</table>\n",
              "</div>"
            ],
            "text/plain": [
              "  Deal_closed_on        Deal_created  ...    Deal_Update_time Deal_Won_time\n",
              "0            NaT 2020-09-04 22:26:10  ... 2020-09-05 12:21:08           NaT\n",
              "1            NaT 2020-09-25 18:04:15  ... 2020-09-27 23:46:54           NaT\n",
              "2            NaT 2020-09-29 18:11:06  ... 2020-10-01 10:40:56           NaT\n",
              "3            NaT 2020-09-24 18:09:01  ... 2020-09-25 17:28:24           NaT\n",
              "4            NaT 2020-09-24 18:09:32  ... 2020-09-26 14:47:02           NaT\n",
              "\n",
              "[5 rows x 7 columns]"
            ]
          },
          "metadata": {},
          "execution_count": 11
        }
      ]
    },
    {
      "cell_type": "code",
      "metadata": {
        "colab": {
          "base_uri": "https://localhost:8080/",
          "height": 454
        },
        "id": "qHFIp9doenwX",
        "outputId": "5e709703-8824-4346-a1e8-b9db24f7790d"
      },
      "source": [
        "df.pivot_table(values = ['Deal_Status'], index = ['Deal_Owner','Person_Grade',],aggfunc='count' )"
      ],
      "execution_count": null,
      "outputs": [
        {
          "output_type": "execute_result",
          "data": {
            "text/html": [
              "<div>\n",
              "<style scoped>\n",
              "    .dataframe tbody tr th:only-of-type {\n",
              "        vertical-align: middle;\n",
              "    }\n",
              "\n",
              "    .dataframe tbody tr th {\n",
              "        vertical-align: top;\n",
              "    }\n",
              "\n",
              "    .dataframe thead th {\n",
              "        text-align: right;\n",
              "    }\n",
              "</style>\n",
              "<table border=\"1\" class=\"dataframe\">\n",
              "  <thead>\n",
              "    <tr style=\"text-align: right;\">\n",
              "      <th></th>\n",
              "      <th></th>\n",
              "      <th>Deal_Status</th>\n",
              "    </tr>\n",
              "    <tr>\n",
              "      <th>Deal_Owner</th>\n",
              "      <th>Person_Grade</th>\n",
              "      <th></th>\n",
              "    </tr>\n",
              "  </thead>\n",
              "  <tbody>\n",
              "    <tr>\n",
              "      <th rowspan=\"5\" valign=\"top\">Adarsh</th>\n",
              "      <th>Grade 1</th>\n",
              "      <td>507</td>\n",
              "    </tr>\n",
              "    <tr>\n",
              "      <th>Grade 2</th>\n",
              "      <td>321</td>\n",
              "    </tr>\n",
              "    <tr>\n",
              "      <th>Grade 3</th>\n",
              "      <td>390</td>\n",
              "    </tr>\n",
              "    <tr>\n",
              "      <th>Grade 4</th>\n",
              "      <td>317</td>\n",
              "    </tr>\n",
              "    <tr>\n",
              "      <th>Grade 5</th>\n",
              "      <td>1</td>\n",
              "    </tr>\n",
              "    <tr>\n",
              "      <th>...</th>\n",
              "      <th>...</th>\n",
              "      <td>...</td>\n",
              "    </tr>\n",
              "    <tr>\n",
              "      <th rowspan=\"5\" valign=\"top\">Vibhor</th>\n",
              "      <th>Grade 1</th>\n",
              "      <td>83</td>\n",
              "    </tr>\n",
              "    <tr>\n",
              "      <th>Grade 2</th>\n",
              "      <td>79</td>\n",
              "    </tr>\n",
              "    <tr>\n",
              "      <th>Grade 3</th>\n",
              "      <td>68</td>\n",
              "    </tr>\n",
              "    <tr>\n",
              "      <th>Grade 4</th>\n",
              "      <td>63</td>\n",
              "    </tr>\n",
              "    <tr>\n",
              "      <th>Senior KG</th>\n",
              "      <td>42</td>\n",
              "    </tr>\n",
              "  </tbody>\n",
              "</table>\n",
              "<p>205 rows × 1 columns</p>\n",
              "</div>"
            ],
            "text/plain": [
              "                         Deal_Status\n",
              "Deal_Owner Person_Grade             \n",
              "Adarsh     Grade 1               507\n",
              "           Grade 2               321\n",
              "           Grade 3               390\n",
              "           Grade 4               317\n",
              "           Grade 5                 1\n",
              "...                              ...\n",
              "Vibhor     Grade 1                83\n",
              "           Grade 2                79\n",
              "           Grade 3                68\n",
              "           Grade 4                63\n",
              "           Senior KG              42\n",
              "\n",
              "[205 rows x 1 columns]"
            ]
          },
          "metadata": {},
          "execution_count": 12
        }
      ]
    },
    {
      "cell_type": "code",
      "metadata": {
        "colab": {
          "base_uri": "https://localhost:8080/"
        },
        "id": "L0TwNgQ1E9oT",
        "outputId": "e0d74aa4-2aaa-4eac-d77a-46d7afb27374"
      },
      "source": [
        "df['Deal_Owner'].value_counts()\n",
        "len(df['Deal_Owner'].unique())"
      ],
      "execution_count": null,
      "outputs": [
        {
          "output_type": "execute_result",
          "data": {
            "text/plain": [
              "38"
            ]
          },
          "metadata": {},
          "execution_count": 13
        }
      ]
    },
    {
      "cell_type": "code",
      "metadata": {
        "colab": {
          "base_uri": "https://localhost:8080/"
        },
        "id": "cNN0XVPSRJnK",
        "outputId": "095413a1-5bb5-4538-82c0-2c9fcc0c9f71"
      },
      "source": [
        "df[df.Deal_Status == 'Won']['Person_Grade'] .value_counts()"
      ],
      "execution_count": null,
      "outputs": [
        {
          "output_type": "execute_result",
          "data": {
            "text/plain": [
              "Grade 1      252\n",
              "Grade 2      227\n",
              "Grade 3      216\n",
              "Grade 4      177\n",
              "Senior KG     98\n",
              "Grade 5        1\n",
              "Junior KG      1\n",
              "Name: Person_Grade, dtype: int64"
            ]
          },
          "metadata": {},
          "execution_count": 14
        }
      ]
    },
    {
      "cell_type": "code",
      "metadata": {
        "colab": {
          "base_uri": "https://localhost:8080/"
        },
        "id": "VcZ3JxXwIUHL",
        "outputId": "61f6a1fb-2fd1-4bb4-a3fb-b4db2cd5f555"
      },
      "source": [
        "len(df['Person_Grade'].unique()) , df['Person_Grade'].unique()"
      ],
      "execution_count": null,
      "outputs": [
        {
          "output_type": "execute_result",
          "data": {
            "text/plain": [
              "(11, array(['Grade 1', 'Senior KG', 'Grade 4', 'Grade 3', 'Grade 2', nan,\n",
              "        'Grade 5', 'Grade 6', 'Junior KG', 'Nursery', 'Grade 8'],\n",
              "       dtype=object))"
            ]
          },
          "metadata": {},
          "execution_count": 15
        }
      ]
    },
    {
      "cell_type": "code",
      "metadata": {
        "colab": {
          "base_uri": "https://localhost:8080/",
          "height": 280
        },
        "id": "SMUyrZDVI9Ns",
        "outputId": "327ab9e7-83e6-4db7-ed3b-2f23817ca529"
      },
      "source": [
        "#FACILITATOR WISE CONVERSONS\n",
        "\n",
        "df1=df.groupby(['Person_Facilitator_Name','Deal_Status'],as_index=False).agg({'Deal_Stage':'count'})\n",
        "df1 = df1[df1.Deal_Status =='Won']\n",
        "df1 = df1.sort_values(by =['Deal_Stage'],ascending=False).head(10)\n",
        "\n",
        "#plt.barh(y=df1.Person_Facilitator_Name,width=df1.Deal_Stage)\n",
        "sns.barplot(x='Deal_Stage',y='Person_Facilitator_Name',data=df1)\n",
        "plt.xlabel('No_of_Conversion')\n",
        "plt.show()\n",
        "\n",
        "\n"
      ],
      "execution_count": null,
      "outputs": [
        {
          "output_type": "display_data",
          "data": {
            "image/png": "[encoded data removed]",
            "text/plain": [
              "<Figure size 432x288 with 1 Axes>"
            ]
          },
          "metadata": {
            "needs_background": "light"
          }
        }
      ]
    },
    {
      "cell_type": "code",
      "metadata": {
        "colab": {
          "base_uri": "https://localhost:8080/",
          "height": 1000
        },
        "id": "94aW8VcS40I_",
        "outputId": "a8db7665-e666-4424-8693-95dd8c0d0ba7"
      },
      "source": [
        "#GRADE WISE SALES CONVERSION\n",
        "\n",
        "a = ['Grade 1', 'Senior KG', 'Grade 4', 'Grade 3', 'Grade 2',\n",
        "       'Grade 5', 'Grade 6', 'Junior KG', 'Nursery', 'Grade 8']\n",
        "\n",
        "group_obj = df[df['Deal_Status']=='Won'].groupby(['Person_Grade'])\n",
        "\n",
        "for i in a:\n",
        "  try:\n",
        "    df_ = group_obj.get_group(i)['Person_Facilitator_Name'].value_counts()[:20].reset_index()\n",
        "    plt.subplots(nrows=1,ncols=1,figsize=(20,5),squeeze=False)\n",
        "    sns.barplot(x='index',y = 'Person_Facilitator_Name',data=df_)\n",
        "    plt.xlabel('Facilitator_name')\n",
        "    plt.ylabel('No of Deals won')\n",
        "    plt.title('Top 20 Facilitator for {}'.format(i))\n",
        "    print('for {} : {} deals won'.format(i,df_.Person_Facilitator_Name.sum()))\n",
        "    plt.show()\n",
        "  except:\n",
        "    continue\n",
        "#    print('for {} : {} deals won'.format(i,df_.Person_Facilitator_Name.sum()))"
      ],
      "execution_count": null,
      "outputs": [
        {
          "output_type": "stream",
          "name": "stdout",
          "text": [
            "for Grade 1 : 173 deals won\n"
          ]
        },
        {
          "output_type": "display_data",
          "data": {
            "image/png": "[encoded data removed]",
            "text/plain": [
              "<Figure size 1440x360 with 1 Axes>"
            ]
          },
          "metadata": {
            "needs_background": "light"
          }
        },
        {
          "output_type": "stream",
          "name": "stdout",
          "text": [
            "for Senior KG : 81 deals won\n"
          ]
        },
        {
          "output_type": "display_data",
          "data": {
            "image/png": "[encoded data removed]",
            "text/plain": [
              "<Figure size 1440x360 with 1 Axes>"
            ]
          },
          "metadata": {
            "needs_background": "light"
          }
        },
        {
          "output_type": "stream",
          "name": "stdout",
          "text": [
            "for Grade 4 : 132 deals won\n"
          ]
        },
        {
          "output_type": "display_data",
          "data": {
            "image/png": "[encoded data removed]",
            "text/plain": [
              "<Figure size 1440x360 with 1 Axes>"
            ]
          },
          "metadata": {
            "needs_background": "light"
          }
        },
        {
          "output_type": "stream",
          "name": "stdout",
          "text": [
            "for Grade 3 : 141 deals won\n"
          ]
        },
        {
          "output_type": "display_data",
          "data": {
            "image/png": "[encoded data removed]",
            "text/plain": [
              "<Figure size 1440x360 with 1 Axes>"
            ]
          },
          "metadata": {
            "needs_background": "light"
          }
        },
        {
          "output_type": "stream",
          "name": "stdout",
          "text": [
            "for Grade 2 : 167 deals won\n"
          ]
        },
        {
          "output_type": "display_data",
          "data": {
            "image/png": "[encoded data removed]",
            "text/plain": [
              "<Figure size 1440x360 with 1 Axes>"
            ]
          },
          "metadata": {
            "needs_background": "light"
          }
        },
        {
          "output_type": "stream",
          "name": "stdout",
          "text": [
            "for Grade 5 : 1 deals won\n"
          ]
        },
        {
          "output_type": "display_data",
          "data": {
            "image/png": "[encoded data removed]",
            "text/plain": [
              "<Figure size 1440x360 with 1 Axes>"
            ]
          },
          "metadata": {
            "needs_background": "light"
          }
        },
        {
          "output_type": "stream",
          "name": "stdout",
          "text": [
            "for Junior KG : 1 deals won\n"
          ]
        },
        {
          "output_type": "display_data",
          "data": {
            "image/png": "[encoded data removed]",
            "text/plain": [
              "<Figure size 1440x360 with 1 Axes>"
            ]
          },
          "metadata": {
            "needs_background": "light"
          }
        }
      ]
    },
    {
      "cell_type": "code",
      "metadata": {
        "colab": {
          "base_uri": "https://localhost:8080/",
          "height": 1000
        },
        "id": "kpG0DW-E-NWv",
        "outputId": "23b6358b-5c9b-4811-ab17-51516f80089a"
      },
      "source": [
        "## Task 2 :TOPIC WISE SALES CONVERSION\n",
        "\n",
        "df1=df.groupby(['Person_Trial_Class_Topic','Deal_Status'],as_index=False).agg({'Deal_Stage':'count'})\n",
        "df1 = df1[df1.Deal_Status =='Won']\n",
        "df1 = df1.sort_values(by =['Deal_Stage'],ascending=False)\n",
        "\n",
        "#plt.barh(y=df1.Person_Facilitator_Name,width=df1.Deal_Stage)\n",
        "#plt.subplots(1,2,figsize=(15,5))\n",
        "plt.figure(figsize=(13,5))\n",
        "sns.barplot(x='Deal_Stage',y='Person_Trial_Class_Topic',data=df1)\n",
        "plt.xlabel('No_of_Conversion')\n",
        "plt.show()\n",
        "\n",
        "df_ = None\n",
        "df_=df.groupby(['Person_Trial_Class_Topic'],as_index=False,sort = 0 ).agg({\"Deal_Value\":\"sum\"}).sort_values(by = 'Deal_Value',ascending=False)\n",
        "plt.figure(figsize=(13,5))\n",
        "sns.barplot(x='Deal_Value',y='Person_Trial_Class_Topic',data=df_)\n",
        "plt.show()\n",
        "\n",
        "\n",
        "#plt.subplots(1,2)\n",
        "for i in df1.Person_Trial_Class_Topic[:5]:\n",
        "  group_obj = df[df['Deal_Status']=='Won'].groupby(['Person_Trial_Class_Topic'])\n",
        "  df_ = group_obj.get_group(i)['Person_Facilitator_Name'].value_counts()[:10].reset_index()\n",
        "  plt.subplots(nrows=1,ncols=1,figsize=(15,4),squeeze=False)\n",
        "  sns.barplot(x='index',y = 'Person_Facilitator_Name',data=df_)\n",
        "  plt.xlabel('Facilitator_name')\n",
        "  plt.ylabel('No of Deals won')\n",
        "  plt.title('Top 10 Facilitator for {}'.format(i))\n",
        "  plt.show()"
      ],
      "execution_count": null,
      "outputs": [
        {
          "output_type": "display_data",
          "data": {
            "image/png": "[encoded data removed]",
            "text/plain": [
              "<Figure size 936x360 with 1 Axes>"
            ]
          },
          "metadata": {
            "needs_background": "light"
          }
        },
        {
          "output_type": "display_data",
          "data": {
            "image/png": "[encoded data removed]",
            "text/plain": [
              "<Figure size 936x360 with 1 Axes>"
            ]
          },
          "metadata": {
            "needs_background": "light"
          }
        },
        {
          "output_type": "display_data",
          "data": {
            "image/png": "[encoded data removed]",
            "text/plain": [
              "<Figure size 1080x288 with 1 Axes>"
            ]
          },
          "metadata": {
            "needs_background": "light"
          }
        },
        {
          "output_type": "display_data",
          "data": {
            "image/png": "[encoded data removed]",
            "text/plain": [
              "<Figure size 1080x288 with 1 Axes>"
            ]
          },
          "metadata": {
            "needs_background": "light"
          }
        },
        {
          "output_type": "display_data",
          "data": {
            "image/png": "[encoded data removed]",
            "text/plain": [
              "<Figure size 1080x288 with 1 Axes>"
            ]
          },
          "metadata": {
            "needs_background": "light"
          }
        },
        {
          "output_type": "display_data",
          "data": {
            "image/png": "[encoded data removed]",
            "text/plain": [
              "<Figure size 1080x288 with 1 Axes>"
            ]
          },
          "metadata": {
            "needs_background": "light"
          }
        },
        {
          "output_type": "display_data",
          "data": {
            "image/png": "[encoded data removed]",
            "text/plain": [
              "<Figure size 1080x288 with 1 Axes>"
            ]
          },
          "metadata": {
            "needs_background": "light"
          }
        }
      ]
    },
    {
      "cell_type": "code",
      "metadata": {
        "colab": {
          "base_uri": "https://localhost:8080/"
        },
        "id": "nnUgkQnsp8cj",
        "outputId": "a687d166-fc94-4196-d66c-bae3814309b0"
      },
      "source": [
        "df.Deal_Status.value_counts()"
      ],
      "execution_count": null,
      "outputs": [
        {
          "output_type": "execute_result",
          "data": {
            "text/plain": [
              "Open    12588\n",
              "Won       972\n",
              "Lost        4\n",
              "Name: Deal_Status, dtype: int64"
            ]
          },
          "metadata": {},
          "execution_count": 20
        }
      ]
    },
    {
      "cell_type": "code",
      "metadata": {
        "id": "IR1h7B5NIEf_"
      },
      "source": [
        "#df.Deal_Status=df.Deal_Status.apply(lambda x :'Unsucessful' if not 'Won')\n",
        "#Converting successful deals as label 1 and for all the other categories with label 0"
      ],
      "execution_count": null,
      "outputs": []
    },
    {
      "cell_type": "code",
      "metadata": {
        "colab": {
          "base_uri": "https://localhost:8080/",
          "height": 458
        },
        "id": "BepImD7LfcLv",
        "outputId": "2b77af31-6155-4ae0-d309-4b271641d492"
      },
      "source": [
        "#Grade wise revenue and deal conversion \n",
        "df3 = df.groupby(['Person_Grade','Deal_Status'],as_index=False).agg({'Deal_Value':'sum'},normalise = True)\n",
        "df3.sort_values(by='Deal_Value')\n",
        "plt.figure(figsize=(13,7))\n",
        "ax = sns.barplot(x = 'Deal_Value', y = 'Person_Grade',hue='Deal_Status',data = df3)\n",
        "#ax = plt.annotate(''.format(df3.values[i]))\n",
        "plt.title('Gradewise revenew generated')\n",
        "plt.legend()\n",
        "plt.show()\n",
        "\n",
        "\n",
        "## gradewise revenue generated from success full deals(labeled 1 orange) and unsucessful deals (labeled 0 blue )  "
      ],
      "execution_count": null,
      "outputs": [
        {
          "output_type": "display_data",
          "data": {
            "image/png": "[encoded data removed]",
            "text/plain": [
              "<Figure size 936x504 with 1 Axes>"
            ]
          },
          "metadata": {
            "needs_background": "light"
          }
        }
      ]
    },
    {
      "cell_type": "code",
      "metadata": {
        "colab": {
          "base_uri": "https://localhost:8080/",
          "height": 676
        },
        "id": "pddL6dX7raGu",
        "outputId": "c870e067-4348-4e0b-8962-4e11bffb795f"
      },
      "source": [
        "df3 = df.groupby(['Person_Grade','Deal_Status'],as_index=False).agg({'Deal_Value':'sum'})\n",
        "df3.sort_values(by='Deal_Value')"
      ],
      "execution_count": null,
      "outputs": [
        {
          "output_type": "execute_result",
          "data": {
            "text/html": [
              "<div>\n",
              "<style scoped>\n",
              "    .dataframe tbody tr th:only-of-type {\n",
              "        vertical-align: middle;\n",
              "    }\n",
              "\n",
              "    .dataframe tbody tr th {\n",
              "        vertical-align: top;\n",
              "    }\n",
              "\n",
              "    .dataframe thead th {\n",
              "        text-align: right;\n",
              "    }\n",
              "</style>\n",
              "<table border=\"1\" class=\"dataframe\">\n",
              "  <thead>\n",
              "    <tr style=\"text-align: right;\">\n",
              "      <th></th>\n",
              "      <th>Person_Grade</th>\n",
              "      <th>Deal_Status</th>\n",
              "      <th>Deal_Value</th>\n",
              "    </tr>\n",
              "  </thead>\n",
              "  <tbody>\n",
              "    <tr>\n",
              "      <th>17</th>\n",
              "      <td>Nursery</td>\n",
              "      <td>Open</td>\n",
              "      <td>0</td>\n",
              "    </tr>\n",
              "    <tr>\n",
              "      <th>16</th>\n",
              "      <td>Junior KG</td>\n",
              "      <td>Won</td>\n",
              "      <td>0</td>\n",
              "    </tr>\n",
              "    <tr>\n",
              "      <th>15</th>\n",
              "      <td>Junior KG</td>\n",
              "      <td>Open</td>\n",
              "      <td>0</td>\n",
              "    </tr>\n",
              "    <tr>\n",
              "      <th>14</th>\n",
              "      <td>Grade 8</td>\n",
              "      <td>Open</td>\n",
              "      <td>0</td>\n",
              "    </tr>\n",
              "    <tr>\n",
              "      <th>13</th>\n",
              "      <td>Grade 6</td>\n",
              "      <td>Open</td>\n",
              "      <td>0</td>\n",
              "    </tr>\n",
              "    <tr>\n",
              "      <th>11</th>\n",
              "      <td>Grade 5</td>\n",
              "      <td>Open</td>\n",
              "      <td>0</td>\n",
              "    </tr>\n",
              "    <tr>\n",
              "      <th>0</th>\n",
              "      <td>Grade 1</td>\n",
              "      <td>Lost</td>\n",
              "      <td>1999</td>\n",
              "    </tr>\n",
              "    <tr>\n",
              "      <th>3</th>\n",
              "      <td>Grade 2</td>\n",
              "      <td>Lost</td>\n",
              "      <td>1999</td>\n",
              "    </tr>\n",
              "    <tr>\n",
              "      <th>6</th>\n",
              "      <td>Grade 3</td>\n",
              "      <td>Lost</td>\n",
              "      <td>1999</td>\n",
              "    </tr>\n",
              "    <tr>\n",
              "      <th>12</th>\n",
              "      <td>Grade 5</td>\n",
              "      <td>Won</td>\n",
              "      <td>2000</td>\n",
              "    </tr>\n",
              "    <tr>\n",
              "      <th>9</th>\n",
              "      <td>Grade 4</td>\n",
              "      <td>Open</td>\n",
              "      <td>47672</td>\n",
              "    </tr>\n",
              "    <tr>\n",
              "      <th>18</th>\n",
              "      <td>Senior KG</td>\n",
              "      <td>Open</td>\n",
              "      <td>77176</td>\n",
              "    </tr>\n",
              "    <tr>\n",
              "      <th>7</th>\n",
              "      <td>Grade 3</td>\n",
              "      <td>Open</td>\n",
              "      <td>79560</td>\n",
              "    </tr>\n",
              "    <tr>\n",
              "      <th>4</th>\n",
              "      <td>Grade 2</td>\n",
              "      <td>Open</td>\n",
              "      <td>111747</td>\n",
              "    </tr>\n",
              "    <tr>\n",
              "      <th>1</th>\n",
              "      <td>Grade 1</td>\n",
              "      <td>Open</td>\n",
              "      <td>151821</td>\n",
              "    </tr>\n",
              "    <tr>\n",
              "      <th>19</th>\n",
              "      <td>Senior KG</td>\n",
              "      <td>Won</td>\n",
              "      <td>189017</td>\n",
              "    </tr>\n",
              "    <tr>\n",
              "      <th>10</th>\n",
              "      <td>Grade 4</td>\n",
              "      <td>Won</td>\n",
              "      <td>312478</td>\n",
              "    </tr>\n",
              "    <tr>\n",
              "      <th>8</th>\n",
              "      <td>Grade 3</td>\n",
              "      <td>Won</td>\n",
              "      <td>421417</td>\n",
              "    </tr>\n",
              "    <tr>\n",
              "      <th>5</th>\n",
              "      <td>Grade 2</td>\n",
              "      <td>Won</td>\n",
              "      <td>424711</td>\n",
              "    </tr>\n",
              "    <tr>\n",
              "      <th>2</th>\n",
              "      <td>Grade 1</td>\n",
              "      <td>Won</td>\n",
              "      <td>448195</td>\n",
              "    </tr>\n",
              "  </tbody>\n",
              "</table>\n",
              "</div>"
            ],
            "text/plain": [
              "   Person_Grade Deal_Status  Deal_Value\n",
              "17      Nursery        Open           0\n",
              "16    Junior KG         Won           0\n",
              "15    Junior KG        Open           0\n",
              "14      Grade 8        Open           0\n",
              "13      Grade 6        Open           0\n",
              "11      Grade 5        Open           0\n",
              "0       Grade 1        Lost        1999\n",
              "3       Grade 2        Lost        1999\n",
              "6       Grade 3        Lost        1999\n",
              "12      Grade 5         Won        2000\n",
              "9       Grade 4        Open       47672\n",
              "18    Senior KG        Open       77176\n",
              "7       Grade 3        Open       79560\n",
              "4       Grade 2        Open      111747\n",
              "1       Grade 1        Open      151821\n",
              "19    Senior KG         Won      189017\n",
              "10      Grade 4         Won      312478\n",
              "8       Grade 3         Won      421417\n",
              "5       Grade 2         Won      424711\n",
              "2       Grade 1         Won      448195"
            ]
          },
          "metadata": {},
          "execution_count": 23
        }
      ]
    },
    {
      "cell_type": "code",
      "metadata": {
        "colab": {
          "base_uri": "https://localhost:8080/"
        },
        "id": "lLvOaNvL_-Ht",
        "outputId": "1458b022-fa80-4f9e-d001-1fb60c127c82"
      },
      "source": [
        "df[df['Deal_Status']=='Won'].Person_Trial_Class_Topic.value_counts()"
      ],
      "execution_count": null,
      "outputs": [
        {
          "output_type": "execute_result",
          "data": {
            "text/plain": [
              "Category Spin                                            286\n",
              "Compare Characters                                       229\n",
              "Homophones                                               216\n",
              "Acrostic poem                                            159\n",
              "Words & Stories                                           77\n",
              "Category Spin, Compare Characters                          1\n",
              "Acrostic poem, Compare Characters, Compare Characters      1\n",
              "Acrostic poem, Compare Characters                          1\n",
              "Words & Stories, Category Spin                             1\n",
              "Name: Person_Trial_Class_Topic, dtype: int64"
            ]
          },
          "metadata": {},
          "execution_count": 24
        }
      ]
    },
    {
      "cell_type": "code",
      "metadata": {
        "colab": {
          "base_uri": "https://localhost:8080/",
          "height": 893
        },
        "id": "4_Oe-UJdizWp",
        "outputId": "ba6015f8-b598-4edb-8490-0232fc371e6f"
      },
      "source": [
        "#df.Deal_Status=df.Deal_Status.apply(lambda x : 1 if x=='Won' else 0)\n",
        "\n",
        "df2=df.groupby(['Deal_Owner','Deal_Status'],as_index=False).agg({'Deal_Stage':'count','Deal_Value': 'sum'}).sort_values(by = 'Deal_Value',ascending=False)\n",
        "#df2 = df2[df2.Deal_Status =='Won']\n",
        "df2.head(30)\n",
        "plt.figure(figsize=(10,15))\n",
        "ax = sns.barplot(x='Deal_Value',y='Deal_Owner',hue='Deal_Status',data=df2, )\n",
        "plt.title('Sales person  vs  Revenew_Generated')\n",
        "plt.xlabel('Revenew')\n",
        "plt.ylabel('Sales_Person')\n",
        "plt.show()"
      ],
      "execution_count": null,
      "outputs": [
        {
          "output_type": "display_data",
          "data": {
            "image/png": "[encoded data removed]",
            "text/plain": [
              "<Figure size 720x1080 with 1 Axes>"
            ]
          },
          "metadata": {
            "needs_background": "light"
          }
        }
      ]
    },
    {
      "cell_type": "code",
      "metadata": {
        "colab": {
          "base_uri": "https://localhost:8080/",
          "height": 498
        },
        "id": "As6JLEXhMQ25",
        "outputId": "ae8b6d6e-eb9c-4edc-d5a7-aaaaca450572"
      },
      "source": [
        "#df.Deal_Status=df.Deal_Status.apply(lambda x : 1 if x=='Won' else 0)\n",
        "df2=df.groupby(['Deal_Owner','Deal_Status'],as_index=False).agg({'Deal_Stage':'count'}).sort_values(by='Deal_Stage',ascending=False)\n",
        "df2.head(30)\n",
        "plt.figure(figsize=(20,8))\n",
        "plt.grid()\n",
        "sns.barplot(y='Deal_Stage',x='Deal_Owner',data=df2.head(20))\n",
        "plt.xlabel('Deal_owner')\n",
        "plt.ylabel('No. of conversions')\n",
        "plt.show()\n",
        "\n",
        "#sns.histplot(y='Deal_Stage',x='Deal_Owner',data=df2.head(100),cbar=True,)"
      ],
      "execution_count": null,
      "outputs": [
        {
          "output_type": "display_data",
          "data": {
            "image/png": "[encoded data removed]",
            "text/plain": [
              "<Figure size 1440x576 with 1 Axes>"
            ]
          },
          "metadata": {
            "needs_background": "light"
          }
        }
      ]
    },
    {
      "cell_type": "code",
      "metadata": {
        "colab": {
          "base_uri": "https://localhost:8080/"
        },
        "id": "kAN1-EAVg6Kn",
        "outputId": "bfeca437-bb89-4661-cb9d-5e8eea339c92"
      },
      "source": [
        "df[['Deal_created','Deal_Update_time','Deal_Last_activity_date','Deal_closed_on','Deal_Won_time']].isnull().sum()/df.shape[0]"
      ],
      "execution_count": null,
      "outputs": [
        {
          "output_type": "execute_result",
          "data": {
            "text/plain": [
              "Deal_created               0.000000\n",
              "Deal_Update_time           0.000000\n",
              "Deal_Last_activity_date    0.360513\n",
              "Deal_closed_on             0.928045\n",
              "Deal_Won_time              0.928340\n",
              "dtype: float64"
            ]
          },
          "metadata": {},
          "execution_count": 28
        }
      ]
    },
    {
      "cell_type": "code",
      "metadata": {
        "id": "f_k_pcm0tFVX"
      },
      "source": [
        "df_ = df[['Deal_created','Deal_Update_time','Deal_Last_activity_date','Deal_closed_on','Deal_Won_time']]"
      ],
      "execution_count": null,
      "outputs": []
    },
    {
      "cell_type": "code",
      "metadata": {
        "id": "pl-12y-0waQ0",
        "colab": {
          "base_uri": "https://localhost:8080/",
          "height": 174
        },
        "outputId": "db825b54-af6e-4ffe-f51f-0e4a5886ab7b"
      },
      "source": [
        "#Deal_created               0.000000\n",
        "#Deal_Update_time           0.000000\n",
        "#Deal_Last_activity_date    0.360513\n",
        "#Deal_closed_on             0.928045\n",
        "#Deal_Won_time              0.928340\n",
        "#since there are losts of null values in 'Deal_won_time' and 'Deal_closed_on'\n",
        "# we are doing it as follows\n",
        "\n",
        "\n",
        "for row in range(df_.shape[0]):\n",
        "  if type(df_.loc[row,:].Deal_closed_on) == pd._libs.tslibs.nattype.NaTType:\n",
        "    df_.loc[row,:].Deal_closed_on = df_.loc[row,:].Deal_Won_time\n",
        "\n",
        "    if type(df_.loc[row,:].Deal_Won_time) == pd._libs.tslibs.nattype.NaTType:\n",
        "      df_.loc[row,:].Deal_closed_on = df_.loc[row,:].Deal_Last_activity_date\n",
        "\n",
        "      if type(df_.loc[row,:].Deal_Last_activity_date) == pd._libs.tslibs.nattype.NaTType:\n",
        "        df_.loc[row,:].Deal_closed_on = df_.loc[row,:].Deal_Update_time\n",
        "\n",
        "\n",
        "df_.head(4)"
      ],
      "execution_count": null,
      "outputs": [
        {
          "output_type": "execute_result",
          "data": {
            "text/html": [
              "<div>\n",
              "<style scoped>\n",
              "    .dataframe tbody tr th:only-of-type {\n",
              "        vertical-align: middle;\n",
              "    }\n",
              "\n",
              "    .dataframe tbody tr th {\n",
              "        vertical-align: top;\n",
              "    }\n",
              "\n",
              "    .dataframe thead th {\n",
              "        text-align: right;\n",
              "    }\n",
              "</style>\n",
              "<table border=\"1\" class=\"dataframe\">\n",
              "  <thead>\n",
              "    <tr style=\"text-align: right;\">\n",
              "      <th></th>\n",
              "      <th>Deal_created</th>\n",
              "      <th>Deal_Update_time</th>\n",
              "      <th>Deal_Last_activity_date</th>\n",
              "      <th>Deal_closed_on</th>\n",
              "      <th>Deal_Won_time</th>\n",
              "    </tr>\n",
              "  </thead>\n",
              "  <tbody>\n",
              "    <tr>\n",
              "      <th>0</th>\n",
              "      <td>2020-09-04 22:26:10</td>\n",
              "      <td>2020-09-05 12:21:08</td>\n",
              "      <td>NaT</td>\n",
              "      <td>2020-09-05 12:21:08</td>\n",
              "      <td>NaT</td>\n",
              "    </tr>\n",
              "    <tr>\n",
              "      <th>1</th>\n",
              "      <td>2020-09-25 18:04:15</td>\n",
              "      <td>2020-09-27 23:46:54</td>\n",
              "      <td>2020-09-27</td>\n",
              "      <td>2020-09-27 00:00:00</td>\n",
              "      <td>NaT</td>\n",
              "    </tr>\n",
              "    <tr>\n",
              "      <th>2</th>\n",
              "      <td>2020-09-29 18:11:06</td>\n",
              "      <td>2020-10-01 10:40:56</td>\n",
              "      <td>NaT</td>\n",
              "      <td>2020-10-01 10:40:56</td>\n",
              "      <td>NaT</td>\n",
              "    </tr>\n",
              "    <tr>\n",
              "      <th>3</th>\n",
              "      <td>2020-09-24 18:09:01</td>\n",
              "      <td>2020-09-25 17:28:24</td>\n",
              "      <td>2020-09-25</td>\n",
              "      <td>2020-09-25 00:00:00</td>\n",
              "      <td>NaT</td>\n",
              "    </tr>\n",
              "  </tbody>\n",
              "</table>\n",
              "</div>"
            ],
            "text/plain": [
              "         Deal_created    Deal_Update_time  ...      Deal_closed_on Deal_Won_time\n",
              "0 2020-09-04 22:26:10 2020-09-05 12:21:08  ... 2020-09-05 12:21:08           NaT\n",
              "1 2020-09-25 18:04:15 2020-09-27 23:46:54  ... 2020-09-27 00:00:00           NaT\n",
              "2 2020-09-29 18:11:06 2020-10-01 10:40:56  ... 2020-10-01 10:40:56           NaT\n",
              "3 2020-09-24 18:09:01 2020-09-25 17:28:24  ... 2020-09-25 00:00:00           NaT\n",
              "\n",
              "[4 rows x 5 columns]"
            ]
          },
          "metadata": {},
          "execution_count": 30
        }
      ]
    },
    {
      "cell_type": "code",
      "metadata": {
        "colab": {
          "base_uri": "https://localhost:8080/"
        },
        "id": "T_qfIJIQw4tE",
        "outputId": "3ab48a78-9960-47f4-b233-a40d59bfd565"
      },
      "source": [
        "#Lets do sanity check for sparcity \n",
        "df_.isnull().sum()/df_.shape[0]\n",
        "\n",
        "#deal_closed_on now has no NA values"
      ],
      "execution_count": null,
      "outputs": [
        {
          "output_type": "execute_result",
          "data": {
            "text/plain": [
              "Deal_created               0.000000\n",
              "Deal_Update_time           0.000000\n",
              "Deal_Last_activity_date    0.360513\n",
              "Deal_closed_on             0.000000\n",
              "Deal_Won_time              0.928340\n",
              "dtype: float64"
            ]
          },
          "metadata": {},
          "execution_count": 31
        }
      ]
    },
    {
      "cell_type": "code",
      "metadata": {
        "colab": {
          "base_uri": "https://localhost:8080/"
        },
        "id": "im0bwbPr-J3_",
        "outputId": "58590c7d-f6d2-4879-ddea-bc09e3bd22fa"
      },
      "source": [
        "import datetime as dt\n",
        "dt.datetime.hour\n",
        "#df_[['Deal_created','Deal_closed_on']].apply(lambda x: (x.dt.year))\n",
        "delta = df_.Deal_closed_on - df_.Deal_created\n",
        "df_['Duration'] = (delta.dt.days+delta.dt.seconds/(3600*24))"
      ],
      "execution_count": null,
      "outputs": [
        {
          "output_type": "stream",
          "name": "stderr",
          "text": [
            "/usr/local/lib/python3.7/dist-packages/ipykernel_launcher.py:5: SettingWithCopyWarning: \n",
            "A value is trying to be set on a copy of a slice from a DataFrame.\n",
            "Try using .loc[row_indexer,col_indexer] = value instead\n",
            "\n",
            "See the caveats in the documentation: https://pandas.pydata.org/pandas-docs/stable/user_guide/indexing.html#returning-a-view-versus-a-copy\n",
            "  \"\"\"\n"
          ]
        }
      ]
    },
    {
      "cell_type": "code",
      "metadata": {
        "id": "TOLA3GHP_-oM",
        "colab": {
          "base_uri": "https://localhost:8080/"
        },
        "outputId": "b982eda1-8f1e-4e33-e193-05ed083182d8"
      },
      "source": [
        "delta.dt.days+delta.dt.seconds/(3600*24)\n",
        "df_.Duration"
      ],
      "execution_count": null,
      "outputs": [
        {
          "output_type": "execute_result",
          "data": {
            "text/plain": [
              "0         0.579838\n",
              "1         1.247049\n",
              "2         1.687384\n",
              "3         0.243738\n",
              "4         1.243380\n",
              "           ...    \n",
              "13559     1.722720\n",
              "13560     1.995648\n",
              "13561     0.226343\n",
              "13562     7.033079\n",
              "13563    31.805475\n",
              "Name: Duration, Length: 13564, dtype: float64"
            ]
          },
          "metadata": {},
          "execution_count": 33
        }
      ]
    },
    {
      "cell_type": "code",
      "metadata": {
        "colab": {
          "base_uri": "https://localhost:8080/",
          "height": 424
        },
        "id": "fEHKGm4DFGPF",
        "outputId": "8c654f85-dd9b-4d5f-a5bd-1ad32be52f88"
      },
      "source": [
        "df_"
      ],
      "execution_count": null,
      "outputs": [
        {
          "output_type": "execute_result",
          "data": {
            "text/html": [
              "<div>\n",
              "<style scoped>\n",
              "    .dataframe tbody tr th:only-of-type {\n",
              "        vertical-align: middle;\n",
              "    }\n",
              "\n",
              "    .dataframe tbody tr th {\n",
              "        vertical-align: top;\n",
              "    }\n",
              "\n",
              "    .dataframe thead th {\n",
              "        text-align: right;\n",
              "    }\n",
              "</style>\n",
              "<table border=\"1\" class=\"dataframe\">\n",
              "  <thead>\n",
              "    <tr style=\"text-align: right;\">\n",
              "      <th></th>\n",
              "      <th>Deal_created</th>\n",
              "      <th>Deal_Update_time</th>\n",
              "      <th>Deal_Last_activity_date</th>\n",
              "      <th>Deal_closed_on</th>\n",
              "      <th>Deal_Won_time</th>\n",
              "      <th>Duration</th>\n",
              "    </tr>\n",
              "  </thead>\n",
              "  <tbody>\n",
              "    <tr>\n",
              "      <th>0</th>\n",
              "      <td>2020-09-04 22:26:10</td>\n",
              "      <td>2020-09-05 12:21:08</td>\n",
              "      <td>NaT</td>\n",
              "      <td>2020-09-05 12:21:08</td>\n",
              "      <td>NaT</td>\n",
              "      <td>0.579838</td>\n",
              "    </tr>\n",
              "    <tr>\n",
              "      <th>1</th>\n",
              "      <td>2020-09-25 18:04:15</td>\n",
              "      <td>2020-09-27 23:46:54</td>\n",
              "      <td>2020-09-27</td>\n",
              "      <td>2020-09-27 00:00:00</td>\n",
              "      <td>NaT</td>\n",
              "      <td>1.247049</td>\n",
              "    </tr>\n",
              "    <tr>\n",
              "      <th>2</th>\n",
              "      <td>2020-09-29 18:11:06</td>\n",
              "      <td>2020-10-01 10:40:56</td>\n",
              "      <td>NaT</td>\n",
              "      <td>2020-10-01 10:40:56</td>\n",
              "      <td>NaT</td>\n",
              "      <td>1.687384</td>\n",
              "    </tr>\n",
              "    <tr>\n",
              "      <th>3</th>\n",
              "      <td>2020-09-24 18:09:01</td>\n",
              "      <td>2020-09-25 17:28:24</td>\n",
              "      <td>2020-09-25</td>\n",
              "      <td>2020-09-25 00:00:00</td>\n",
              "      <td>NaT</td>\n",
              "      <td>0.243738</td>\n",
              "    </tr>\n",
              "    <tr>\n",
              "      <th>4</th>\n",
              "      <td>2020-09-24 18:09:32</td>\n",
              "      <td>2020-09-26 14:47:02</td>\n",
              "      <td>2020-09-26</td>\n",
              "      <td>2020-09-26 00:00:00</td>\n",
              "      <td>NaT</td>\n",
              "      <td>1.243380</td>\n",
              "    </tr>\n",
              "    <tr>\n",
              "      <th>...</th>\n",
              "      <td>...</td>\n",
              "      <td>...</td>\n",
              "      <td>...</td>\n",
              "      <td>...</td>\n",
              "      <td>...</td>\n",
              "      <td>...</td>\n",
              "    </tr>\n",
              "    <tr>\n",
              "      <th>13559</th>\n",
              "      <td>2020-09-17 21:00:32</td>\n",
              "      <td>2020-09-19 14:21:15</td>\n",
              "      <td>NaT</td>\n",
              "      <td>2020-09-19 14:21:15</td>\n",
              "      <td>NaT</td>\n",
              "      <td>1.722720</td>\n",
              "    </tr>\n",
              "    <tr>\n",
              "      <th>13560</th>\n",
              "      <td>2020-09-19 19:40:31</td>\n",
              "      <td>2020-09-21 19:34:15</td>\n",
              "      <td>NaT</td>\n",
              "      <td>2020-09-21 19:34:15</td>\n",
              "      <td>2020-09-21 19:34:15</td>\n",
              "      <td>1.995648</td>\n",
              "    </tr>\n",
              "    <tr>\n",
              "      <th>13561</th>\n",
              "      <td>2020-09-16 18:34:04</td>\n",
              "      <td>2020-09-29 10:54:06</td>\n",
              "      <td>2020-09-17</td>\n",
              "      <td>2020-09-17 00:00:00</td>\n",
              "      <td>NaT</td>\n",
              "      <td>0.226343</td>\n",
              "    </tr>\n",
              "    <tr>\n",
              "      <th>13562</th>\n",
              "      <td>2020-09-05 23:12:22</td>\n",
              "      <td>2020-09-13 11:36:12</td>\n",
              "      <td>2020-09-13</td>\n",
              "      <td>2020-09-13 00:00:00</td>\n",
              "      <td>NaT</td>\n",
              "      <td>7.033079</td>\n",
              "    </tr>\n",
              "    <tr>\n",
              "      <th>13563</th>\n",
              "      <td>2020-05-22 23:14:14</td>\n",
              "      <td>2020-06-23 18:34:07</td>\n",
              "      <td>2020-06-20</td>\n",
              "      <td>2020-06-23 18:34:07</td>\n",
              "      <td>2020-06-23 18:34:07</td>\n",
              "      <td>31.805475</td>\n",
              "    </tr>\n",
              "  </tbody>\n",
              "</table>\n",
              "<p>13564 rows × 6 columns</p>\n",
              "</div>"
            ],
            "text/plain": [
              "             Deal_created    Deal_Update_time  ...       Deal_Won_time   Duration\n",
              "0     2020-09-04 22:26:10 2020-09-05 12:21:08  ...                 NaT   0.579838\n",
              "1     2020-09-25 18:04:15 2020-09-27 23:46:54  ...                 NaT   1.247049\n",
              "2     2020-09-29 18:11:06 2020-10-01 10:40:56  ...                 NaT   1.687384\n",
              "3     2020-09-24 18:09:01 2020-09-25 17:28:24  ...                 NaT   0.243738\n",
              "4     2020-09-24 18:09:32 2020-09-26 14:47:02  ...                 NaT   1.243380\n",
              "...                   ...                 ...  ...                 ...        ...\n",
              "13559 2020-09-17 21:00:32 2020-09-19 14:21:15  ...                 NaT   1.722720\n",
              "13560 2020-09-19 19:40:31 2020-09-21 19:34:15  ... 2020-09-21 19:34:15   1.995648\n",
              "13561 2020-09-16 18:34:04 2020-09-29 10:54:06  ...                 NaT   0.226343\n",
              "13562 2020-09-05 23:12:22 2020-09-13 11:36:12  ...                 NaT   7.033079\n",
              "13563 2020-05-22 23:14:14 2020-06-23 18:34:07  ... 2020-06-23 18:34:07  31.805475\n",
              "\n",
              "[13564 rows x 6 columns]"
            ]
          },
          "metadata": {},
          "execution_count": 34
        }
      ]
    },
    {
      "cell_type": "code",
      "metadata": {
        "colab": {
          "base_uri": "https://localhost:8080/"
        },
        "id": "p9CDgDPYHd8d",
        "outputId": "c9525541-9e06-461a-a3b2-078c14e42339"
      },
      "source": [
        "df['Duration'] = df_.Duration\n",
        "df.columns"
      ],
      "execution_count": null,
      "outputs": [
        {
          "output_type": "execute_result",
          "data": {
            "text/plain": [
              "Index(['Date_of_Trial', 'Deal_Stage', 'Deal_Owner', 'Deal_Value',\n",
              "       'Person_uuid', 'Person_Grade', 'Deal_closed_on', 'Deal_created',\n",
              "       'Deal_Last_activity_date', 'Deal_Pipeline', 'Deal_Status',\n",
              "       'Deal_Update_time', 'Deal_Won_time', 'Person_Total_Live_Classes',\n",
              "       'Person_Trial_Class_Topic', 'Person_Facilitator_Name', 'Duration'],\n",
              "      dtype='object')"
            ]
          },
          "metadata": {},
          "execution_count": 35
        }
      ]
    },
    {
      "cell_type": "code",
      "metadata": {
        "colab": {
          "base_uri": "https://localhost:8080/",
          "height": 424
        },
        "id": "MTnFK0KkHpqi",
        "outputId": "335b21f1-c0e8-49b9-b3e1-351e2ac80e68"
      },
      "source": [
        "df[['Deal_Owner','Deal_Value','Person_Grade','Deal_Status','Person_Total_Live_Classes','Person_Facilitator_Name','Person_Trial_Class_Topic']]"
      ],
      "execution_count": null,
      "outputs": [
        {
          "output_type": "execute_result",
          "data": {
            "text/html": [
              "<div>\n",
              "<style scoped>\n",
              "    .dataframe tbody tr th:only-of-type {\n",
              "        vertical-align: middle;\n",
              "    }\n",
              "\n",
              "    .dataframe tbody tr th {\n",
              "        vertical-align: top;\n",
              "    }\n",
              "\n",
              "    .dataframe thead th {\n",
              "        text-align: right;\n",
              "    }\n",
              "</style>\n",
              "<table border=\"1\" class=\"dataframe\">\n",
              "  <thead>\n",
              "    <tr style=\"text-align: right;\">\n",
              "      <th></th>\n",
              "      <th>Deal_Owner</th>\n",
              "      <th>Deal_Value</th>\n",
              "      <th>Person_Grade</th>\n",
              "      <th>Deal_Status</th>\n",
              "      <th>Person_Total_Live_Classes</th>\n",
              "      <th>Person_Facilitator_Name</th>\n",
              "      <th>Person_Trial_Class_Topic</th>\n",
              "    </tr>\n",
              "  </thead>\n",
              "  <tbody>\n",
              "    <tr>\n",
              "      <th>0</th>\n",
              "      <td>Adarsh</td>\n",
              "      <td>0</td>\n",
              "      <td>Grade 1</td>\n",
              "      <td>Open</td>\n",
              "      <td>NaN</td>\n",
              "      <td>FLTR0103</td>\n",
              "      <td>Category Spin</td>\n",
              "    </tr>\n",
              "    <tr>\n",
              "      <th>1</th>\n",
              "      <td>Ankita</td>\n",
              "      <td>4999</td>\n",
              "      <td>Senior KG</td>\n",
              "      <td>Open</td>\n",
              "      <td>32.0</td>\n",
              "      <td>FLTR0104</td>\n",
              "      <td>Words &amp; Stories</td>\n",
              "    </tr>\n",
              "    <tr>\n",
              "      <th>2</th>\n",
              "      <td>Nikita</td>\n",
              "      <td>0</td>\n",
              "      <td>Grade 1</td>\n",
              "      <td>Open</td>\n",
              "      <td>NaN</td>\n",
              "      <td>FLTR0104</td>\n",
              "      <td>Category Spin</td>\n",
              "    </tr>\n",
              "    <tr>\n",
              "      <th>3</th>\n",
              "      <td>Vibhor</td>\n",
              "      <td>0</td>\n",
              "      <td>Senior KG</td>\n",
              "      <td>Open</td>\n",
              "      <td>NaN</td>\n",
              "      <td>FLTR0104</td>\n",
              "      <td>Words &amp; Stories</td>\n",
              "    </tr>\n",
              "    <tr>\n",
              "      <th>4</th>\n",
              "      <td>Vibhor</td>\n",
              "      <td>0</td>\n",
              "      <td>Senior KG</td>\n",
              "      <td>Open</td>\n",
              "      <td>NaN</td>\n",
              "      <td>FLTR0104</td>\n",
              "      <td>Words &amp; Stories</td>\n",
              "    </tr>\n",
              "    <tr>\n",
              "      <th>...</th>\n",
              "      <td>...</td>\n",
              "      <td>...</td>\n",
              "      <td>...</td>\n",
              "      <td>...</td>\n",
              "      <td>...</td>\n",
              "      <td>...</td>\n",
              "      <td>...</td>\n",
              "    </tr>\n",
              "    <tr>\n",
              "      <th>13559</th>\n",
              "      <td>Adarsh</td>\n",
              "      <td>0</td>\n",
              "      <td>Grade 3</td>\n",
              "      <td>Open</td>\n",
              "      <td>NaN</td>\n",
              "      <td>FLTR0140</td>\n",
              "      <td>Compare Characters</td>\n",
              "    </tr>\n",
              "    <tr>\n",
              "      <th>13560</th>\n",
              "      <td>Sudhir</td>\n",
              "      <td>1700</td>\n",
              "      <td>Senior KG</td>\n",
              "      <td>Won</td>\n",
              "      <td>12.0</td>\n",
              "      <td>FLTR0108</td>\n",
              "      <td>Words &amp; Stories</td>\n",
              "    </tr>\n",
              "    <tr>\n",
              "      <th>13561</th>\n",
              "      <td>Juhi</td>\n",
              "      <td>0</td>\n",
              "      <td>Grade 4</td>\n",
              "      <td>Open</td>\n",
              "      <td>NaN</td>\n",
              "      <td>FLTR0106</td>\n",
              "      <td>Acrostic poem</td>\n",
              "    </tr>\n",
              "    <tr>\n",
              "      <th>13562</th>\n",
              "      <td>Aman</td>\n",
              "      <td>0</td>\n",
              "      <td>NaN</td>\n",
              "      <td>Open</td>\n",
              "      <td>12.0</td>\n",
              "      <td>NaN</td>\n",
              "      <td>NaN</td>\n",
              "    </tr>\n",
              "    <tr>\n",
              "      <th>13563</th>\n",
              "      <td>Priyanshu</td>\n",
              "      <td>3000</td>\n",
              "      <td>Grade 4</td>\n",
              "      <td>Won</td>\n",
              "      <td>60.0</td>\n",
              "      <td>FLTR0173</td>\n",
              "      <td>NaN</td>\n",
              "    </tr>\n",
              "  </tbody>\n",
              "</table>\n",
              "<p>13564 rows × 7 columns</p>\n",
              "</div>"
            ],
            "text/plain": [
              "      Deal_Owner  Deal_Value  ... Person_Facilitator_Name Person_Trial_Class_Topic\n",
              "0         Adarsh           0  ...                FLTR0103            Category Spin\n",
              "1         Ankita        4999  ...                FLTR0104          Words & Stories\n",
              "2         Nikita           0  ...                FLTR0104            Category Spin\n",
              "3         Vibhor           0  ...                FLTR0104          Words & Stories\n",
              "4         Vibhor           0  ...                FLTR0104          Words & Stories\n",
              "...          ...         ...  ...                     ...                      ...\n",
              "13559     Adarsh           0  ...                FLTR0140       Compare Characters\n",
              "13560     Sudhir        1700  ...                FLTR0108          Words & Stories\n",
              "13561       Juhi           0  ...                FLTR0106            Acrostic poem\n",
              "13562       Aman           0  ...                     NaN                      NaN\n",
              "13563  Priyanshu        3000  ...                FLTR0173                      NaN\n",
              "\n",
              "[13564 rows x 7 columns]"
            ]
          },
          "metadata": {},
          "execution_count": 36
        }
      ]
    },
    {
      "cell_type": "code",
      "metadata": {
        "colab": {
          "base_uri": "https://localhost:8080/",
          "height": 837
        },
        "id": "mwTVd0BsH773",
        "outputId": "9ac8953e-153c-4e53-fcdd-98747fedeac3"
      },
      "source": [
        "#df.Duration.hist()\n",
        "df4=df.groupby(['Deal_Owner','Person_Grade','Person_Facilitator_Name','Person_Trial_Class_Topic'],as_index=False).agg({'Duration':'median'}).sort_values(by='Duration',ascending=False).head(15)\n",
        "plt.figure(figsize=(10,5))\n",
        "sns.barplot(x='Deal_Owner',y='Duration',data=df4)\n",
        "plt.show()\n",
        "#sns.barplot(x=('Deal_Owner',       ''),y=(  'Duration',   'mean'), data=df4)\n",
        "#df4.columns\n",
        "df4"
      ],
      "execution_count": null,
      "outputs": [
        {
          "output_type": "display_data",
          "data": {
            "image/png": "[encoded data removed]",
            "text/plain": [
              "<Figure size 720x360 with 1 Axes>"
            ]
          },
          "metadata": {
            "needs_background": "light"
          }
        },
        {
          "output_type": "execute_result",
          "data": {
            "text/html": [
              "<div>\n",
              "<style scoped>\n",
              "    .dataframe tbody tr th:only-of-type {\n",
              "        vertical-align: middle;\n",
              "    }\n",
              "\n",
              "    .dataframe tbody tr th {\n",
              "        vertical-align: top;\n",
              "    }\n",
              "\n",
              "    .dataframe thead th {\n",
              "        text-align: right;\n",
              "    }\n",
              "</style>\n",
              "<table border=\"1\" class=\"dataframe\">\n",
              "  <thead>\n",
              "    <tr style=\"text-align: right;\">\n",
              "      <th></th>\n",
              "      <th>Deal_Owner</th>\n",
              "      <th>Person_Grade</th>\n",
              "      <th>Person_Facilitator_Name</th>\n",
              "      <th>Person_Trial_Class_Topic</th>\n",
              "      <th>Duration</th>\n",
              "    </tr>\n",
              "  </thead>\n",
              "  <tbody>\n",
              "    <tr>\n",
              "      <th>4643</th>\n",
              "      <td>Tanveer</td>\n",
              "      <td>Senior KG</td>\n",
              "      <td>FLTR0133</td>\n",
              "      <td>Category Spin</td>\n",
              "      <td>27.173194</td>\n",
              "    </tr>\n",
              "    <tr>\n",
              "      <th>3943</th>\n",
              "      <td>Sampath</td>\n",
              "      <td>Grade 3</td>\n",
              "      <td>FLTR0116</td>\n",
              "      <td>Acrostic poem</td>\n",
              "      <td>26.221088</td>\n",
              "    </tr>\n",
              "    <tr>\n",
              "      <th>1140</th>\n",
              "      <td>Ashna</td>\n",
              "      <td>Grade 2</td>\n",
              "      <td>FLTR0118</td>\n",
              "      <td>Homophones</td>\n",
              "      <td>23.743750</td>\n",
              "    </tr>\n",
              "    <tr>\n",
              "      <th>4125</th>\n",
              "      <td>Sreerekha</td>\n",
              "      <td>Grade 1</td>\n",
              "      <td>FLTR0119</td>\n",
              "      <td>Category Spin</td>\n",
              "      <td>23.303032</td>\n",
              "    </tr>\n",
              "    <tr>\n",
              "      <th>1040</th>\n",
              "      <td>Anuradha</td>\n",
              "      <td>Grade 4</td>\n",
              "      <td>FLTR0166</td>\n",
              "      <td>Acrostic poem</td>\n",
              "      <td>21.989468</td>\n",
              "    </tr>\n",
              "    <tr>\n",
              "      <th>1037</th>\n",
              "      <td>Anuradha</td>\n",
              "      <td>Grade 2</td>\n",
              "      <td>FLTR0141</td>\n",
              "      <td>Homophones</td>\n",
              "      <td>21.697616</td>\n",
              "    </tr>\n",
              "    <tr>\n",
              "      <th>1208</th>\n",
              "      <td>Ashna</td>\n",
              "      <td>Grade 3</td>\n",
              "      <td>FLTR0146</td>\n",
              "      <td>Category Spin</td>\n",
              "      <td>20.887639</td>\n",
              "    </tr>\n",
              "    <tr>\n",
              "      <th>761</th>\n",
              "      <td>Anirban</td>\n",
              "      <td>Senior KG</td>\n",
              "      <td>FLTR0103</td>\n",
              "      <td>Category Spin</td>\n",
              "      <td>20.191088</td>\n",
              "    </tr>\n",
              "    <tr>\n",
              "      <th>3189</th>\n",
              "      <td>Palak</td>\n",
              "      <td>Grade 1</td>\n",
              "      <td>FLTR0110</td>\n",
              "      <td>Category Spin</td>\n",
              "      <td>19.462529</td>\n",
              "    </tr>\n",
              "    <tr>\n",
              "      <th>3243</th>\n",
              "      <td>Palak</td>\n",
              "      <td>Grade 2</td>\n",
              "      <td>FLTR0122</td>\n",
              "      <td>Homophones</td>\n",
              "      <td>19.250475</td>\n",
              "    </tr>\n",
              "    <tr>\n",
              "      <th>1039</th>\n",
              "      <td>Anuradha</td>\n",
              "      <td>Grade 4</td>\n",
              "      <td>FLTR0107</td>\n",
              "      <td>Compare Characters</td>\n",
              "      <td>18.989225</td>\n",
              "    </tr>\n",
              "    <tr>\n",
              "      <th>4355</th>\n",
              "      <td>Sudhir</td>\n",
              "      <td>Grade 3</td>\n",
              "      <td>FLTR0164</td>\n",
              "      <td>Acrostic poem</td>\n",
              "      <td>18.813090</td>\n",
              "    </tr>\n",
              "    <tr>\n",
              "      <th>4977</th>\n",
              "      <td>Umair</td>\n",
              "      <td>Grade 4</td>\n",
              "      <td>FLTR0146</td>\n",
              "      <td>Acrostic poem</td>\n",
              "      <td>18.557726</td>\n",
              "    </tr>\n",
              "    <tr>\n",
              "      <th>2034</th>\n",
              "      <td>Ektaa</td>\n",
              "      <td>Grade 6</td>\n",
              "      <td>FLTR0144</td>\n",
              "      <td>Acrostic poem</td>\n",
              "      <td>18.100752</td>\n",
              "    </tr>\n",
              "    <tr>\n",
              "      <th>3298</th>\n",
              "      <td>Palak</td>\n",
              "      <td>Grade 3</td>\n",
              "      <td>FLTR0138</td>\n",
              "      <td>Compare Characters</td>\n",
              "      <td>17.942176</td>\n",
              "    </tr>\n",
              "  </tbody>\n",
              "</table>\n",
              "</div>"
            ],
            "text/plain": [
              "     Deal_Owner Person_Grade  ... Person_Trial_Class_Topic   Duration\n",
              "4643    Tanveer    Senior KG  ...            Category Spin  27.173194\n",
              "3943    Sampath      Grade 3  ...            Acrostic poem  26.221088\n",
              "1140      Ashna      Grade 2  ...               Homophones  23.743750\n",
              "4125  Sreerekha      Grade 1  ...            Category Spin  23.303032\n",
              "1040   Anuradha      Grade 4  ...            Acrostic poem  21.989468\n",
              "1037   Anuradha      Grade 2  ...               Homophones  21.697616\n",
              "1208      Ashna      Grade 3  ...            Category Spin  20.887639\n",
              "761     Anirban    Senior KG  ...            Category Spin  20.191088\n",
              "3189      Palak      Grade 1  ...            Category Spin  19.462529\n",
              "3243      Palak      Grade 2  ...               Homophones  19.250475\n",
              "1039   Anuradha      Grade 4  ...       Compare Characters  18.989225\n",
              "4355     Sudhir      Grade 3  ...            Acrostic poem  18.813090\n",
              "4977      Umair      Grade 4  ...            Acrostic poem  18.557726\n",
              "2034      Ektaa      Grade 6  ...            Acrostic poem  18.100752\n",
              "3298      Palak      Grade 3  ...       Compare Characters  17.942176\n",
              "\n",
              "[15 rows x 5 columns]"
            ]
          },
          "metadata": {},
          "execution_count": 37
        }
      ]
    },
    {
      "cell_type": "code",
      "metadata": {
        "colab": {
          "base_uri": "https://localhost:8080/",
          "height": 280
        },
        "id": "is_fPAkWdvz4",
        "outputId": "8c668a3a-1949-4717-8f93-459725bce0a5"
      },
      "source": [
        "sns.barplot(y = 'Duration',x='Person_Grade',data=df4)\n",
        "plt.show()"
      ],
      "execution_count": null,
      "outputs": [
        {
          "output_type": "display_data",
          "data": {
            "image/png": "[encoded data removed]",
            "text/plain": [
              "<Figure size 432x288 with 1 Axes>"
            ]
          },
          "metadata": {
            "needs_background": "light"
          }
        }
      ]
    },
    {
      "cell_type": "code",
      "metadata": {
        "colab": {
          "base_uri": "https://localhost:8080/",
          "height": 280
        },
        "id": "pXgaz1b9I2lr",
        "outputId": "b267745d-0a88-41b9-b60b-a35c0e6e0a2e"
      },
      "source": [
        "sns.barplot(y='Duration',x='Person_Trial_Class_Topic',data=df4)\n",
        "plt.show()"
      ],
      "execution_count": null,
      "outputs": [
        {
          "output_type": "display_data",
          "data": {
            "image/png": "[encoded data removed]",
            "text/plain": [
              "<Figure size 432x288 with 1 Axes>"
            ]
          },
          "metadata": {
            "needs_background": "light"
          }
        }
      ]
    },
    {
      "cell_type": "code",
      "metadata": {
        "id": "jK7tFTOxeqAY"
      },
      "source": [
        ""
      ],
      "execution_count": null,
      "outputs": []
    }
  ]
}