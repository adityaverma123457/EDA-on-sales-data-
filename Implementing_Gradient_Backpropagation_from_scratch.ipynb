{
  "nbformat": 4,
  "nbformat_minor": 0,
  "metadata": {
    "colab": {
      "name": "Implementing Gradient Backpropagation from scratch.ipynb",
      "provenance": [],
      "collapsed_sections": [],
      "include_colab_link": true
    },
    "kernelspec": {
      "display_name": "Python 3",
      "name": "python3"
    }
  },
  "cells": [
    {
      "cell_type": "markdown",
      "metadata": {
        "id": "view-in-github",
        "colab_type": "text"
      },
      "source": [
        "<a href=\"https://colab.research.google.com/github/adityaverma123457/EDA-on-sales-data-/blob/main/Implementing_Gradient_Backpropagation_from_scratch.ipynb\" target=\"_parent\"><img src=\"https://colab.research.google.com/assets/colab-badge.svg\" alt=\"Open In Colab\"/></a>"
      ]
    },
    {
      "cell_type": "markdown",
      "metadata": {
        "id": "y871RZtRhCEH"
      },
      "source": [
        "# <font color='red'>BackPropagation</font>"
      ]
    },
    {
      "cell_type": "markdown",
      "metadata": {
        "id": "LqePYi-4mFvK"
      },
      "source": [
        "**There will be some functions that start with the word \"grader\" ex: grader_sigmoid(), grader_forwardprop(), grader_backprop() etc, you should not change those function definition.<br><br>Every Grader function has to return True.**"
      ]
    },
    {
      "cell_type": "code",
      "metadata": {
        "colab": {
          "base_uri": "https://localhost:8080/"
        },
        "id": "iubZ3UFWQ2lJ",
        "outputId": "15fe21bf-428a-458d-a1ba-8465bbfd4c37"
      },
      "source": [
        "from google.colab import drive\n",
        "drive.mount('/content/drive')"
      ],
      "execution_count": null,
      "outputs": [
        {
          "output_type": "stream",
          "text": [
            "Drive already mounted at /content/drive; to attempt to forcibly remount, call drive.mount(\"/content/drive\", force_remount=True).\n"
          ],
          "name": "stdout"
        }
      ]
    },
    {
      "cell_type": "code",
      "metadata": {
        "id": "g2mQSdEVQsxh"
      },
      "source": [
        "import os\n",
        "os.listdir()\n",
        "os.chdir('/content/drive/MyDrive')"
      ],
      "execution_count": null,
      "outputs": []
    },
    {
      "cell_type": "markdown",
      "metadata": {
        "id": "0huUQ0byiI0I"
      },
      "source": [
        "## <font color='red'>Loading data </font>"
      ]
    },
    {
      "cell_type": "code",
      "metadata": {
        "colab": {
          "base_uri": "https://localhost:8080/"
        },
        "id": "1hSje5CBgcUb",
        "outputId": "3b59ccb0-225d-466c-fb0f-d13a3a826737"
      },
      "source": [
        "import pickle\n",
        "import math\n",
        "import numpy as np\n",
        "from tqdm import tqdm\n",
        "import matplotlib.pyplot as plt\n",
        "\n",
        "with open('/content/drive/MyDrive/APPLIED AI ASSIGNMENTS ipynb/backpropogation assignment/data.pkl', 'rb') as f:\n",
        "    data = pickle.load(f)\n",
        "print(data.shape)\n",
        "X = data[:, :5]\n",
        "y = data[:, -1]\n",
        "print(X.shape, y.shape)"
      ],
      "execution_count": null,
      "outputs": [
        {
          "output_type": "stream",
          "text": [
            "(506, 6)\n",
            "(506, 5) (506,)\n"
          ],
          "name": "stdout"
        }
      ]
    },
    {
      "cell_type": "markdown",
      "metadata": {
        "id": "5JL-0soQistC"
      },
      "source": [
        "# <font color='red'>Computational graph</font>"
      ]
    },
    {
      "cell_type": "markdown",
      "metadata": {
        "id": "nREnTTJ3i0Vd"
      },
      "source": [
        "<img src='https://i.imgur.com/seSGbNS.png'>"
      ]
    },
    {
      "cell_type": "markdown",
      "metadata": {
        "id": "DSPX_H_4i_HT"
      },
      "source": [
        "\n",
        "*  **If you observe the graph, we are having input features [f1, f2, f3, f4, f5] and 9 weights [w1, w2, w3, w4, w5, w6,    w7, w8, w9]**.<br><br>\n",
        "*  **The final output of this graph is a value L which is computed as (Y-Y')^2** "
      ]
    },
    {
      "cell_type": "markdown",
      "metadata": {
        "id": "D54eDEv6jkO4"
      },
      "source": [
        "# <font color='red'>Task 1: Implementing backpropagation and Gradient checking </font>"
      ]
    },
    {
      "cell_type": "markdown",
      "metadata": {
        "id": "qocI1Vzqkod9"
      },
      "source": [
        "<font color='blue'><b>Check this video for better understanding of the computational graphs and back propagation</font>"
      ]
    },
    {
      "cell_type": "code",
      "metadata": {
        "colab": {
          "base_uri": "https://localhost:8080/",
          "height": 521
        },
        "id": "Wb5WMdwJinlX",
        "outputId": "5c8c8f77-458d-43ae-b775-cf99e5f96dfa"
      },
      "source": [
        "from IPython.display import YouTubeVideo\n",
        "YouTubeVideo('i94OvYb6noo',width=\"1000\",height=\"500\")"
      ],
      "execution_count": null,
      "outputs": [
        {
          "output_type": "execute_result",
          "data": {
            "text/html": [
              "\n",
              "        <iframe\n",
              "            width=\"1000\"\n",
              "            height=\"500\"\n",
              "            src=\"https://www.youtube.com/embed/i94OvYb6noo\"\n",
              "            frameborder=\"0\"\n",
              "            allowfullscreen\n",
              "        ></iframe>\n",
              "        "
            ],
            "text/plain": [
              "<IPython.lib.display.YouTubeVideo at 0x7f29859b06d0>"
            ],
            "image/jpeg": "[encoded data removed]"
          },
          "metadata": {
            "tags": []
          },
          "execution_count": 65
        }
      ]
    },
    {
      "cell_type": "markdown",
      "metadata": {
        "id": "2jecTyVRlh-6"
      },
      "source": [
        "\n",
        "*  <b>Write two functions<br>\n",
        "    *  Forward propagation</b>(Write your code in<font color='blue'> def forward_propagation()</b></font>)<br><br>\n",
        "    For easy debugging, we will break the computational graph into 3 parts.\n",
        "\n",
        "    <font color='green'><b>Part 1</b></font></b>\n",
        "    <img src='https://i.imgur.com/0xUaxy6.png'><br><br>\n",
        "    <font color='green'><b>Part 2</b></font></b><br>\n",
        "    <img src='https://i.imgur.com/J29pAJL.png'><br><br>\n",
        "    <font color='green'><b>Part 3</b></font></b>\n",
        "    <img src='https://i.imgur.com/vMyCsd9.png'>\n",
        "\n",
        "    <pre>\n",
        "    <font color='green'>\n",
        "def forward_propagation(X, y, W):\n",
        "        <font color='grey'>\n",
        "        # X: input data point, note that in this assignment you are having 5-d data points\n",
        "        # y: output varible\n",
        "        # W: weight array, its of length 9, W[0] corresponds to w1 in graph, W[1] corresponds to w2 in graph, <br>         ..., W[8] corresponds to w9 in graph.  \n",
        "        # you have to return the following variables\n",
        "        # exp= part1 (compute the forward propagation until exp and then store the values in exp)\n",
        "        # tanh =part2(compute the forward propagation until tanh and then store the values in tanh)\n",
        "        # sig = part3(compute the forward propagation until sigmoid and then store the values in sig)\n",
        "        # now compute remaining values from computional graph and get y'\n",
        "        # write code to compute the value of L=(y-y')^2\n",
        "        # compute derivative of L  w.r.to Y' and store it in dl\n",
        "        # Create a dictionary to store all the intermediate values\n",
        "        # store L, exp,tanh,sig,dl variables\n",
        "        </font>\n",
        "        return (dictionary, which you might need to use for back propagation)\n",
        "        <font color='grey'>\n",
        "        </font>\n",
        "</font>\n",
        "</pre>\n",
        "    *  <b>Backward propagation</b>(Write your code in<font color='blue'> def backward_propagation()</b></font>)\n",
        "    </b>\n",
        "    <pre>\n",
        "    <font color='green'>\n",
        "    def backward_propagation(L, W,dictionary):\n",
        "        <font color='grey'>\n",
        "        # L: the loss we calculated for the current point\n",
        "        # dictionary: the outputs of the forward_propagation() function\n",
        "        # write code to compute the gradients of each weight [w1,w2,w3,...,w9]\n",
        "        # Hint: you can use dict type to store the required variables \n",
        "        # return dW, dW is a dictionary with gradients of all the weights\n",
        "        </font>\n",
        "        return dW\n",
        "        </font>\n",
        "</font>\n",
        "</pre>"
      ]
    },
    {
      "cell_type": "markdown",
      "metadata": {
        "id": "STS4NrQQc6OH"
      },
      "source": [
        " ## <font color='red'>Gradient clipping</font>"
      ]
    },
    {
      "cell_type": "markdown",
      "metadata": {
        "id": "XY7ivRNzdPok"
      },
      "source": [
        "<b> Check this  <a href='https://towardsdatascience.com/how-to-debug-a-neural-network-with-gradient-checking-41deec0357a9'>blog link</a> for more details on Gradient clipping"
      ]
    },
    {
      "cell_type": "markdown",
      "metadata": {
        "id": "BrsfpDoidtZ5"
      },
      "source": [
        " we know that the derivative of any function is\n",
        " \n",
        " $$\\lim_{\\epsilon\\to0}\\frac{f(x+\\epsilon)-f(x-\\epsilon)}{2\\epsilon}$$\n"
      ]
    },
    {
      "cell_type": "markdown",
      "metadata": {
        "id": "vUcmt0kPd02f"
      },
      "source": [
        "*  The definition above can be used as a numerical approximation of the derivative. Taking an epsilon small enough, the calculated approximation will have an error in the range of epsilon squared. \n",
        "\n",
        "*  In other words, if epsilon is 0.001, the approximation will be off by 0.00001.\n",
        "\n",
        "Therefore, we can use this to approximate the gradient, and in turn make sure that backpropagation is implemented properly. This forms the basis of <b>gradient checking!</b>"
      ]
    },
    {
      "cell_type": "markdown",
      "metadata": {
        "id": "pFSu16KCeU0x"
      },
      "source": [
        "## <Font color='blue'>Gradient checking example</font>"
      ]
    },
    {
      "cell_type": "markdown",
      "metadata": {
        "id": "Gz0mmT_xecfC"
      },
      "source": [
        "<font >\n",
        "lets understand the concept with a simple example:\n",
        "$f(w1,w2,x1,x2)=w_{1}^{2} . x_{1} + w_{2} . x_{2}$ \n",
        "\n",
        "from the above function , lets assume $w_{1}=1$, $w_{2}=2$, $x_{1}=3$, $x_{2}=4$ the gradient of $f$ w.r.t $w_{1}$ is\n",
        "\n",
        "\\begin{array} {lcl}\n",
        "\\frac{df}{dw_{1}} = dw_{1} &=&2.w_{1}.x_{1} \\\\& = &2.1.3\\\\& = &6\n",
        "\\end{array}\n",
        "\n",
        "\n",
        "let calculate the aproximate gradient of $w_{1}$ as mentinoned in the above formula and considering $\\epsilon=0.0001$\n",
        "\n",
        "\\begin{array} {lcl}\n",
        "dw_1^{approx} & = & \\frac{f(w1+\\epsilon,w2,x1,x2)-f(w1-\\epsilon,w2,x1,x2)}{2\\epsilon} \\\\ & = & \\frac{((1+0.0001)^{2} . 3 + 2 . 4) - ((1-0.0001)^{2} . 3 + 2 . 4)}{2\\epsilon} \\\\ & = & \\frac{(1.00020001 . 3 + 2 . 4) - (0.99980001. 3 + 2 . 4)}{2*0.0001} \\\\ & = & \\frac{(11.00060003) - (10.99940003)}{0.0002}\\\\ & = & 5.99999999999\n",
        "\\end{array}\n",
        "\n",
        "Then, we apply the following formula for gradient check: <i>gradient_check</i> = \n",
        "$\\frac{\\left\\Vert\\left (dW-dW^{approx}\\rm\\right) \\right\\Vert_2}{\\left\\Vert\\left (dW\\rm\\right) \\right\\Vert_2+\\left\\Vert\\left (dW^{approx}\\rm\\right) \\right\\Vert_2}$\n",
        "\n",
        "The equation above is basically the Euclidean distance normalized by the sum of the norm of the vectors. We use normalization in case that one of the vectors is very small.\n",
        "As a value for epsilon, we usually opt for 1e-7. Therefore, if gradient check return a value less than 1e-7, then it means that backpropagation was implemented correctly. Otherwise, there is potentially a mistake in your implementation. If the value exceeds 1e-3, then you are sure that the code is not correct.\n",
        "\n",
        "in our example: <i>gradient_check</i> $ = \\frac{(6 - 5.999999999994898)}{(6 + 5.999999999994898)} = 4.2514140356330737e^{-13}$\n",
        "\n",
        "you can mathamatically derive the same thing like this\n",
        "\n",
        "\\begin{array} {lcl}\n",
        "dw_1^{approx} & = & \\frac{f(w1+\\epsilon,w2,x1,x2)-f(w1-\\epsilon,w2,x1,x2)}{2\\epsilon} \\\\ & = & \\frac{((w_{1}+\\epsilon)^{2} . x_{1} + w_{2} . x_{2}) - ((w_{1}-\\epsilon)^{2} . x_{1} + w_{2} . x_{2})}{2\\epsilon} \\\\ & = & \\frac{4. \\epsilon.w_{1}. x_{1}}{2\\epsilon} \\\\ & = &  2.w_{1}.x_{1}\n",
        "\\end{array}\n"
      ]
    },
    {
      "cell_type": "markdown",
      "metadata": {
        "id": "f1BFQQaCermK"
      },
      "source": [
        "## <font color='red'> Implement Gradient checking </font> <br>\n",
        " (Write your code in <font color='blue'> def gradient_checking()</font>)"
      ]
    },
    {
      "cell_type": "markdown",
      "metadata": {
        "id": "GqpfA3AqfJba"
      },
      "source": [
        "**Algorithm** \n",
        "\n"
      ]
    },
    {
      "cell_type": "markdown",
      "metadata": {
        "id": "FL39KeRFfNoD"
      },
      "source": [
        "<pre>\n",
        "<font color='darkblue'>\n",
        "W = initilize_randomly\n",
        "def gradient_checking(data_point, W):<font color='grey'>\n",
        "    # compute the L value using forward_propagation()\n",
        "    # compute the gradients of W using backword_propagation()</font>\n",
        "    approx_gradients = []\n",
        "    for each wi weight value in W:<font color='grey'>\n",
        "        # add a small value to weight wi, and then find the values of L with the updated weights\n",
        "        # subtract a small value to weight wi, and then find the values of L with the updated weights\n",
        "        # compute the approximation gradients of weight wi</font>\n",
        "        approx_gradients.append(approximation gradients of weight wi)<font color='grey'>\n",
        "    # compare the gradient of weights W from backword_propagation() with the aproximation gradients of weights with <br>  gradient_check formula</font>\n",
        "    return gradient_check</font>\n",
        "<b>NOTE: you can do sanity check by checking all the return values of gradient_checking(),<br> they have to be zero. if not you have bug in your code\n",
        "</pre></b>"
      ]
    },
    {
      "cell_type": "markdown",
      "metadata": {
        "id": "0ufbFBFfhgL0"
      },
      "source": [
        "# <font color='red'> Task 2 : Optimizers </font>"
      ]
    },
    {
      "cell_type": "markdown",
      "metadata": {
        "id": "7zt05soYh1RM"
      },
      "source": [
        "* As a part of this task, you will be implementing 3 type of optimizers(methods to update weight)\n",
        "* Use the same computational graph that was mentioned above to do this task\n",
        "* Initilze the 9 weights from normal distribution with mean=0 and std=0.01"
      ]
    },
    {
      "cell_type": "markdown",
      "metadata": {
        "id": "CAyi7aSAicbr"
      },
      "source": [
        "**Check below video and <a href='https://cs231n.github.io/neural-networks-3/'>this</a> blog**"
      ]
    },
    {
      "cell_type": "code",
      "metadata": {
        "colab": {
          "base_uri": "https://localhost:8080/",
          "height": 521
        },
        "id": "ZogcxiegkQpz",
        "outputId": "afe58236-d058-44d2-d3ae-9d3c6c2b3b8b"
      },
      "source": [
        "from IPython.display import YouTubeVideo\n",
        "YouTubeVideo('gYpoJMlgyXA',width=\"1000\",height=\"500\")"
      ],
      "execution_count": null,
      "outputs": [
        {
          "output_type": "execute_result",
          "data": {
            "text/html": [
              "\n",
              "        <iframe\n",
              "            width=\"1000\"\n",
              "            height=\"500\"\n",
              "            src=\"https://www.youtube.com/embed/gYpoJMlgyXA\"\n",
              "            frameborder=\"0\"\n",
              "            allowfullscreen\n",
              "        ></iframe>\n",
              "        "
            ],
            "text/plain": [
              "<IPython.lib.display.YouTubeVideo at 0x7f298177cbd0>"
            ],
            "image/jpeg": "[encoded data removed]"
          },
          "metadata": {
            "tags": []
          },
          "execution_count": 66
        }
      ]
    },
    {
      "cell_type": "markdown",
      "metadata": {
        "id": "jmefh7ktjbaR"
      },
      "source": [
        "<font color='blue'><b>Algorithm</b>"
      ]
    },
    {
      "cell_type": "markdown",
      "metadata": {
        "id": "nAc4NudkjdNa"
      },
      "source": [
        "<pre>\n",
        "    for each epoch(1-100):\n",
        "        for each data point in your data:\n",
        "            using the functions forward_propagation() and backword_propagation() compute the gradients of weights\n",
        "            update the weigts with help of gradients  ex: w1 = w1-learning_rate*dw1\n",
        "</pre>"
      ]
    },
    {
      "cell_type": "markdown",
      "metadata": {
        "id": "_fdmPNqtjm3X"
      },
      "source": [
        "## <font color='red'> Implement below tasks</b>"
      ]
    },
    {
      "cell_type": "markdown",
      "metadata": {
        "id": "Ll9-CRsLjx_D"
      },
      "source": [
        "\n",
        "*  <b>Task 2.1</b>: you will be implementing the above algorithm with <b>Vanilla update</b> of weights<br><br>\n",
        "*  <b>Task 2.2</b>: you will be implementing the above algorithm with <b>Momentum update</b> of weights<br><br>\n",
        "*  <b>Task 2.3</b>: you will be implementing the above algorithm with <b>Adam update</b> of weights\n"
      ]
    },
    {
      "cell_type": "markdown",
      "metadata": {
        "id": "atp082demrUR"
      },
      "source": [
        "**Note : If you get any assertion error while running grader functions, please print the variables in grader functions and check which variable is returning False .Recheck your logic for that variable .**"
      ]
    },
    {
      "cell_type": "markdown",
      "metadata": {
        "id": "phG2WDkjkuIL"
      },
      "source": [
        "<br>\n",
        "<br>\n",
        "<br>"
      ]
    },
    {
      "cell_type": "markdown",
      "metadata": {
        "id": "CBaPzHP63grG"
      },
      "source": [
        "# <font color='red'>Task 1 </font>"
      ]
    },
    {
      "cell_type": "markdown",
      "metadata": {
        "id": "QfmV3FUgSrBo"
      },
      "source": [
        "## <font color='blue'>Forward propagation </font>"
      ]
    },
    {
      "cell_type": "code",
      "metadata": {
        "id": "Fy_hV-Zro_pD"
      },
      "source": [
        "def sigmoid(z):\n",
        "  val=1/(1+ math.exp(-z))\n",
        "  return val\n",
        "    \n",
        "def forward_propagation(x, y, w):\n",
        "  results=dict()\n",
        "  exp= math.exp((w[0]*x[0] + w[1]*x[1])**2 + w[5])\n",
        "  tanh= math.tanh(w[6]+exp)\n",
        "  p3= math.sin(w[2]*x[2]) * (w[3] * x[3] + w[4] * x[4]) + w[7]\n",
        "  sig=sigmoid(p3)\n",
        "  y_= tanh + sig * w[8]\n",
        "  L= (y - y_)**2\n",
        "  dL= -2*(y-y_)\n",
        "  results['w1*f1']=w[0]*x[0]\n",
        "  results['w2*f2']=w[1]*x[1]\n",
        "  results['w3*f3']=w[2]*x[2]\n",
        "  results['w4*f4']=w[3]*x[3]\n",
        "  results['w5*f5']=w[4]*x[4]\n",
        "  results['sin']=math.sin(w[2]*x[2])\n",
        "  results['cos']=math.cos(w[2]*x[2])\n",
        "  results['exp']=exp\n",
        "  results['tanh']=tanh\n",
        "  results['sigmoid']=sig\n",
        "  results['loss']=L\n",
        "  results['dy_pr']=dL\n",
        "  results['y']=y_\n",
        "  return results\n"
      ],
      "execution_count": null,
      "outputs": []
    },
    {
      "cell_type": "markdown",
      "metadata": {
        "id": "z-z1rGKqCHNN"
      },
      "source": [
        "<font color='cyan'>Grader function - 1</font>"
      ]
    },
    {
      "cell_type": "code",
      "metadata": {
        "colab": {
          "base_uri": "https://localhost:8080/"
        },
        "id": "6ZxFF00zBmx1",
        "outputId": "292e8763-ba0c-4546-fe57-89b72eaf85bf"
      },
      "source": [
        "def grader_sigmoid(z):\n",
        "  val=sigmoid(z)\n",
        "  assert(val==0.8807970779778823)\n",
        "  return True\n",
        "grader_sigmoid(2)"
      ],
      "execution_count": null,
      "outputs": [
        {
          "output_type": "execute_result",
          "data": {
            "text/plain": [
              "True"
            ]
          },
          "metadata": {
            "tags": []
          },
          "execution_count": 68
        }
      ]
    },
    {
      "cell_type": "markdown",
      "metadata": {
        "id": "KgAUXq_aChey"
      },
      "source": [
        "<font color='cyan'>Grader function - 2 </font>"
      ]
    },
    {
      "cell_type": "code",
      "metadata": {
        "colab": {
          "base_uri": "https://localhost:8080/"
        },
        "id": "3uzsUqcjCorN",
        "outputId": "7f9eab71-5871-40b0-f196-28ba750a4e6b"
      },
      "source": [
        "def grader_forwardprop(data):\n",
        "    dl = (data['dy_pr']==-1.9285278284819143)\n",
        "    loss=(data['loss']==0.9298048963072919)\n",
        "    part1=(data['exp']==1.1272967040973583)\n",
        "    part2=(data['tanh']==0.8417934192562146)\n",
        "    part3=(data['sigmoid']==0.5279179387419721)\n",
        "    assert(dl and loss and part1 and part2 and part3)\n",
        "    return True\n",
        "w=np.ones(9)*0.1\n",
        "d1=forward_propagation(X[0],y[0],w)\n",
        "grader_forwardprop(d1)"
      ],
      "execution_count": null,
      "outputs": [
        {
          "output_type": "execute_result",
          "data": {
            "text/plain": [
              "True"
            ]
          },
          "metadata": {
            "tags": []
          },
          "execution_count": 69
        }
      ]
    },
    {
      "cell_type": "markdown",
      "metadata": {
        "id": "obOaAqj3Sxvb"
      },
      "source": [
        "## <font color='blue'>Backward propagation</font>"
      ]
    },
    {
      "cell_type": "code",
      "metadata": {
        "id": "uKYOyuEC5ffT"
      },
      "source": [
        "def backward_propagation(x,W,dict1):\n",
        "  grad=dict ()\n",
        "  dw1=dict1['dy_pr'] * (1 - dict1['tanh']**2) * dict1['exp'] * (dict1['w1*f1']+dict1['w2*f2']) * x[0] * 2\n",
        "  dw2=dict1['dy_pr'] * (1 - dict1['tanh']**2) * dict1['exp'] * (dict1['w1*f1']+dict1['w2*f2']) * x[1] * 2\n",
        "  dw3=dict1['dy_pr'] * dict1['sigmoid'] * (1-dict1['sigmoid']) * dict1['cos'] * x[2] * (dict1['w4*f4']+dict1['w5*f5']) * W[8]\n",
        "  dw4=dict1['dy_pr'] * dict1['sigmoid'] * (1-dict1['sigmoid']) * dict1['sin'] * x[3] * W[8]\n",
        "  dw5=dict1['dy_pr'] * dict1['sigmoid'] * (1-dict1['sigmoid']) * dict1['sin'] * x[4] * W[8]\n",
        "  dw6=dict1['dy_pr'] * (1 - dict1['tanh']**2) * dict1['exp']\n",
        "  dw7=dict1['dy_pr'] * (1 - dict1['tanh']**2)\n",
        "  dw8=dict1['dy_pr'] * dict1['sigmoid'] * (1-dict1['sigmoid']) * W[8]\n",
        "  dw9=dict1['dy_pr'] * dict1['sigmoid']\n",
        "  grad['dw1']=dw1\n",
        "  grad['dw2']=dw2\n",
        "  grad['dw3']=dw3\n",
        "  grad['dw4']=dw4\n",
        "  grad['dw5']=dw5\n",
        "  grad['dw6']=dw6\n",
        "  grad['dw7']=dw7\n",
        "  grad['dw8']=dw8\n",
        "  grad['dw9']=dw9\n",
        "  return grad\n"
      ],
      "execution_count": null,
      "outputs": []
    },
    {
      "cell_type": "markdown",
      "metadata": {
        "id": "2NpZWAVlS4jb"
      },
      "source": [
        "<font color='cyan'>Grader function - 3 </font>"
      ]
    },
    {
      "cell_type": "code",
      "metadata": {
        "colab": {
          "base_uri": "https://localhost:8080/"
        },
        "id": "1a8Kll2xGhMJ",
        "outputId": "57470ff5-004d-4f70-8f4b-0382c5476ae8"
      },
      "source": [
        "def grader_backprop(data):\n",
        "    dw1=(data['dw1']==-0.22973323498702)\n",
        "    dw2=(data['dw2']==-0.02140761471775293)\n",
        "    dw3=(data['dw3']==-0.005625405580266319)\n",
        "    dw4=(data['dw4']==-0.004657941222712423)\n",
        "    dw5=(data['dw5']==-0.0010077228498574246)\n",
        "    dw6=(data['dw6']==-0.6334751873437471)\n",
        "    dw7=(data['dw7']==-0.561941842854033)\n",
        "    dw8=(data['dw8']==-0.04806288407316517)\n",
        "    dw9=(data['dw9']==-1.0181044360187037)\n",
        "    assert(dw1 and dw2 and dw3 and dw4 and dw5 and dw6 and dw7 and dw8 and dw9)\n",
        "    return True \n",
        "w=np.ones(9)*0.1\n",
        "d1=forward_propagation(X[0],y[0],w)\n",
        "d1=backward_propagation(X[0],w,d1)\n",
        "grader_backprop(d1)"
      ],
      "execution_count": null,
      "outputs": [
        {
          "output_type": "execute_result",
          "data": {
            "text/plain": [
              "True"
            ]
          },
          "metadata": {
            "tags": []
          },
          "execution_count": 71
        }
      ]
    },
    {
      "cell_type": "markdown",
      "metadata": {
        "id": "1rfHHXZwgwo6"
      },
      "source": [
        "## <font color='blue'> Implement gradient checking</font>"
      ]
    },
    {
      "cell_type": "code",
      "metadata": {
        "colab": {
          "base_uri": "https://localhost:8080/"
        },
        "id": "thCG6xQa5JSW",
        "outputId": "92e57228-f193-4b3d-f229-9b2a4fe12e7e"
      },
      "source": [
        "# IMPLEMENTING GRADIENT CHECKING \n",
        "W= list([0.92112651, 0.75651048, 0.45497931, 0.88753942, 0.88210431, 0.59010574, 0.11850274, 0.38950844, 0.9340459 ])\n",
        "def gradient_checking(data_point_x,data_point_y, eps,W):\n",
        "  dic=forward_propagation(data_point_x,data_point_y,W)\n",
        "  #print(dic['dy_pr'])\n",
        "  L=dic['loss']\n",
        "  dW= list(np.array(list(backward_propagation(data_point_x,W,dic).values()))/dic['dy_pr'])\n",
        "  approx_gradients = []\n",
        "  for  i,word in enumerate(W):\n",
        "    W[i]=(W[i] + eps)\n",
        "    #print(W[i])\n",
        "    Loss_up=forward_propagation(data_point_x,data_point_y,W)['y']\n",
        "    #print(Loss_up)\n",
        "    W[i]=(W[i] - 2*eps)\n",
        "    #print(W[i])\n",
        "    Loss_down=forward_propagation(data_point_x,data_point_y,W)['y']\n",
        "    #print(Loss_down)\n",
        "    grad=(Loss_up - Loss_down)/(2*eps)\n",
        "    #print(grad)\n",
        "    approx_gradients.append(grad)\n",
        "  grad_check=np.linalg.norm(np.array(dW) - np.array(approx_gradients))/(np.linalg.norm(np.array(dW) + np.linalg.norm(np.array(approx_gradients))))\n",
        "  return grad_check\n",
        "print(\"gradient check score\")\n",
        "gradient_checking(X[0],y[0],eps=0.0001,W=W) "
      ],
      "execution_count": null,
      "outputs": [
        {
          "output_type": "stream",
          "text": [
            "gradient check score\n"
          ],
          "name": "stdout"
        },
        {
          "output_type": "execute_result",
          "data": {
            "text/plain": [
              "1.9157562492016808e-05"
            ]
          },
          "metadata": {
            "tags": []
          },
          "execution_count": 73
        }
      ]
    },
    {
      "cell_type": "markdown",
      "metadata": {
        "id": "MhwDSe99kJ32"
      },
      "source": [
        "# <font color='red'>Task 2: Optimizers"
      ]
    },
    {
      "cell_type": "markdown",
      "metadata": {
        "id": "jJzI-vnPk1dB"
      },
      "source": [
        "###<font color='blue'>Algorithm with Vanilla update of weights</font>"
      ]
    },
    {
      "cell_type": "markdown",
      "metadata": {
        "id": "UlTLXrvmlR26"
      },
      "source": [
        "<font color='blue'>Plot between epochs and loss</font>"
      ]
    },
    {
      "cell_type": "code",
      "metadata": {
        "colab": {
          "base_uri": "https://localhost:8080/",
          "height": 1000
        },
        "id": "CjTCVUIoGhTo",
        "outputId": "077304b2-b8f5-450d-a974-17e5d28c12fd"
      },
      "source": [
        "#MOMENTUM BASED OPTIMIZER\n",
        "W=np.random.normal(loc=0,scale=0.01,size=9)\n",
        "epochs=200\n",
        "eta=0.01\n",
        "gamma=0.9\n",
        "V_old=0\n",
        "loss_dict={}\n",
        "for epoch in range(1,epochs):\n",
        "  for i in range(X.shape[0]):\n",
        "   dict_fwd= forward_propagation(X[i],y[i],W)\n",
        "   dW_bw=backward_propagation(X[0],W,dict_fwd)\n",
        "   dW_old=np.array(list(dW_bw.values()))\n",
        "   V_new=gamma*V_old + eta*dW_old\n",
        "   W_new=(W - V_new)\n",
        "   W=W_new\n",
        "   V_old=V_new\n",
        "#  eta*=0.95 \n",
        "  loss_dict[epoch]=dict_fwd['loss']\n",
        "  print(\"loss:{} after epoch:{}\".format(dict_fwd['loss'],epoch)) \n",
        "print(\"final weights\",W)\n",
        "\n",
        "#PLOT LOSS VS EPOCH CURVE\n",
        "import matplotlib.pyplot as plt\n",
        "plt.grid()\n",
        "plt.plot(np.arange(1,200),np.array(list(loss_dict.values())),'b.-',label='Loss',linewidth=1)\n",
        "plt.xlabel('Epoch No')\n",
        "plt.ylabel('Loss')\n",
        "plt.title('Loss vs Epoch')\n",
        "plt.legend()\n",
        "plt.show()"
      ],
      "execution_count": null,
      "outputs": [
        {
          "output_type": "stream",
          "text": [
            "loss:0.04634055519729221 after epoch:1\n",
            "loss:0.04711801317034701 after epoch:2\n",
            "loss:0.0490461005182332 after epoch:3\n",
            "loss:0.05441230471573531 after epoch:4\n",
            "loss:0.06605481551403801 after epoch:5\n",
            "loss:0.08038742032591525 after epoch:6\n",
            "loss:0.0720095858335264 after epoch:7\n",
            "loss:0.05516857115618801 after epoch:8\n",
            "loss:0.048512490560804665 after epoch:9\n",
            "loss:0.048060857411489466 after epoch:10\n",
            "loss:0.049066283803411374 after epoch:11\n",
            "loss:0.04879333420308065 after epoch:12\n",
            "loss:0.04843293243288194 after epoch:13\n",
            "loss:0.05198878249132385 after epoch:14\n",
            "loss:0.06380703870686931 after epoch:15\n",
            "loss:0.08092716371038063 after epoch:16\n",
            "loss:0.06929411932411926 after epoch:17\n",
            "loss:0.05296116567143621 after epoch:18\n",
            "loss:0.048315523216749104 after epoch:19\n",
            "loss:0.04843797072663201 after epoch:20\n",
            "loss:0.04863720902730141 after epoch:21\n",
            "loss:0.04854099843873343 after epoch:22\n",
            "loss:0.05154495415434277 after epoch:23\n",
            "loss:0.061633268438870195 after epoch:24\n",
            "loss:0.07598424666970206 after epoch:25\n",
            "loss:0.06802986577008956 after epoch:26\n",
            "loss:0.05363981230962076 after epoch:27\n",
            "loss:0.04880882464481338 after epoch:28\n",
            "loss:0.04832201332971114 after epoch:29\n",
            "loss:0.04844339425876176 after epoch:30\n",
            "loss:0.049376102573801546 after epoch:31\n",
            "loss:0.05405707857543001 after epoch:32\n",
            "loss:0.064622176753719 after epoch:33\n",
            "loss:0.07229164931827141 after epoch:34\n",
            "loss:0.06148064377319441 after epoch:35\n",
            "loss:0.05194800235842863 after epoch:36\n",
            "loss:0.048936571109386894 after epoch:37\n",
            "loss:0.048577607343601815 after epoch:38\n",
            "loss:0.04912063033367561 after epoch:39\n",
            "loss:0.05177015136437674 after epoch:40\n",
            "loss:0.05861855552025123 after epoch:41\n",
            "loss:0.06740129488041205 after epoch:42\n",
            "loss:0.06544131818993437 after epoch:43\n",
            "loss:0.05582182361830268 after epoch:44\n",
            "loss:0.05059861586097603 after epoch:45\n",
            "loss:0.04916665006491631 after epoch:46\n",
            "loss:0.04934818602152124 after epoch:47\n",
            "loss:0.05111819984129868 after epoch:48\n",
            "loss:0.05583054669057093 after epoch:49\n",
            "loss:0.06296123698202344 after epoch:50\n",
            "loss:0.0651317528982333 after epoch:51\n",
            "loss:0.058482899398798784 after epoch:52\n",
            "loss:0.0525161547565919 after epoch:53\n",
            "loss:0.050112942325691516 after epoch:54\n",
            "loss:0.049823715050496625 after epoch:55\n",
            "loss:0.05107172834360152 after epoch:56\n",
            "loss:0.054534303737043516 after epoch:57\n",
            "loss:0.06007103563565978 after epoch:58\n",
            "loss:0.06330059903621225 after epoch:59\n",
            "loss:0.059571722753782134 after epoch:60\n",
            "loss:0.05409692549787996 after epoch:61\n",
            "loss:0.051146754935750195 after epoch:62\n",
            "loss:0.050408293743161095 after epoch:63\n",
            "loss:0.05124390296113886 after epoch:64\n",
            "loss:0.05387902549492844 after epoch:65\n",
            "loss:0.05818405130141598 after epoch:66\n",
            "loss:0.061360172248221455 after epoch:67\n",
            "loss:0.059548864435174494 after epoch:68\n",
            "loss:0.05508953690393802 after epoch:69\n",
            "loss:0.05201414200395069 after epoch:70\n",
            "loss:0.05093224252060039 after epoch:71\n",
            "loss:0.0514064870292394 after epoch:72\n",
            "loss:0.053419757040810444 after epoch:73\n",
            "loss:0.056773427119681315 after epoch:74\n",
            "loss:0.05954140767289922 after epoch:75\n",
            "loss:0.058783811647271755 after epoch:76\n",
            "loss:0.05533013347254342 after epoch:77\n",
            "loss:0.05237092415420877 after epoch:78\n",
            "loss:0.05101631075005307 after epoch:79\n",
            "loss:0.0510985227047407 after epoch:80\n",
            "loss:0.05249634347660693 after epoch:81\n",
            "loss:0.054933524234507654 after epoch:82\n",
            "loss:0.05696644710401452 after epoch:83\n",
            "loss:0.056350353294898285 after epoch:84\n",
            "loss:0.05316511282084071 after epoch:85\n",
            "loss:0.049634363805826136 after epoch:86\n",
            "loss:0.04679409141131213 after epoch:87\n",
            "loss:0.044337586124156406 after epoch:88\n",
            "loss:0.041669906989681225 after epoch:89\n",
            "loss:0.03862343514157515 after epoch:90\n",
            "loss:0.03570006243275001 after epoch:91\n",
            "loss:0.03242303980386105 after epoch:92\n",
            "loss:0.02875432872855454 after epoch:93\n",
            "loss:0.02640506502108783 after epoch:94\n",
            "loss:0.025601623489600357 after epoch:95\n",
            "loss:0.02567247279258403 after epoch:96\n",
            "loss:0.026505396748564863 after epoch:97\n",
            "loss:0.028062612139238077 after epoch:98\n",
            "loss:0.02944081413985465 after epoch:99\n",
            "loss:0.029292014754284428 after epoch:100\n",
            "loss:0.02793102788626815 after epoch:101\n",
            "loss:0.026731266587308983 after epoch:102\n",
            "loss:0.026224264809971053 after epoch:103\n",
            "loss:0.026339063032578044 after epoch:104\n",
            "loss:0.026993684892391744 after epoch:105\n",
            "loss:0.02800442343030936 after epoch:106\n",
            "loss:0.02878813275184749 after epoch:107\n",
            "loss:0.0287235706213697 after epoch:108\n",
            "loss:0.02796630026978401 after epoch:109\n",
            "loss:0.027196543666583056 after epoch:110\n",
            "loss:0.026816064134559548 after epoch:111\n",
            "loss:0.026881439447076213 after epoch:112\n",
            "loss:0.027328051619853168 after epoch:113\n",
            "loss:0.02797387501624978 after epoch:114\n",
            "loss:0.02845687850508976 after epoch:115\n",
            "loss:0.0284535524019308 after epoch:116\n",
            "loss:0.028027339323358776 after epoch:117\n",
            "loss:0.027535448904094775 after epoch:118\n",
            "loss:0.027258419747909775 after epoch:119\n",
            "loss:0.02728350708548154 after epoch:120\n",
            "loss:0.027572877762150727 after epoch:121\n",
            "loss:0.027988491994572016 after epoch:122\n",
            "loss:0.028303979960910875 after epoch:123\n",
            "loss:0.02833315379573281 after epoch:124\n",
            "loss:0.02809521996847517 after epoch:125\n",
            "loss:0.027783981995249105 after epoch:126\n",
            "loss:0.02758726041923223 after epoch:127\n",
            "loss:0.02758779205321152 after epoch:128\n",
            "loss:0.027769722670942843 after epoch:129\n",
            "loss:0.02803916170459299 after epoch:130\n",
            "loss:0.028252560615298853 after epoch:131\n",
            "loss:0.028294822112666474 after epoch:132\n",
            "loss:0.02816549018972956 after epoch:133\n",
            "loss:0.027971361260978635 after epoch:134\n",
            "loss:0.02783505771538845 after epoch:135\n",
            "loss:0.027824025650923036 after epoch:136\n",
            "loss:0.027936276280647737 after epoch:137\n",
            "loss:0.028111929359518117 after epoch:138\n",
            "loss:0.02825920103880847 after epoch:139\n",
            "loss:0.028303637160612075 after epoch:140\n",
            "loss:0.028237010112208614 after epoch:141\n",
            "loss:0.028118331705195985 after epoch:142\n",
            "loss:0.028026336195740385 after epoch:143\n",
            "loss:0.028012077753419462 after epoch:144\n",
            "loss:0.028080678129624063 after epoch:145\n",
            "loss:0.028195783748607237 after epoch:146\n",
            "loss:0.028298655384023465 after epoch:147\n",
            "loss:0.028339896870606205 after epoch:148\n",
            "loss:0.028309128148901103 after epoch:149\n",
            "loss:0.028238663543015262 after epoch:150\n",
            "loss:0.028178427739930848 after epoch:151\n",
            "loss:0.028165401759563443 after epoch:152\n",
            "loss:0.028207404896205008 after epoch:153\n",
            "loss:0.028283362372208454 after epoch:154\n",
            "loss:0.028355867936420694 after epoch:155\n",
            "loss:0.028391776572983227 after epoch:156\n",
            "loss:0.028381093573487715 after epoch:157\n",
            "loss:0.0283411245557225 after epoch:158\n",
            "loss:0.028303181849084917 after epoch:159\n",
            "loss:0.02829327664667086 after epoch:160\n",
            "loss:0.028319470269645593 after epoch:161\n",
            "loss:0.028370157947395395 after epoch:162\n",
            "loss:0.028421733956978997 after epoch:163\n",
            "loss:0.028451906757104167 after epoch:164\n",
            "loss:0.028452079061688 after epoch:165\n",
            "loss:0.028431151474436513 after epoch:166\n",
            "loss:0.028408549283547073 after epoch:167\n",
            "loss:0.028402179795975466 after epoch:168\n",
            "loss:0.028419194171289845 after epoch:169\n",
            "loss:0.028453620702486186 after epoch:170\n",
            "loss:0.028490741576905582 after epoch:171\n",
            "loss:0.028515614026724173 after epoch:172\n",
            "loss:0.028521301275801943 after epoch:173\n",
            "loss:0.028512064530930276 after epoch:174\n",
            "loss:0.02849981076116103 after epoch:175\n",
            "loss:0.02849666140671475 after epoch:176\n",
            "loss:0.028508462790572325 after epoch:177\n",
            "loss:0.02853245513040492 after epoch:178\n",
            "loss:0.028559595234983637 after epoch:179\n",
            "loss:0.028579933114943955 after epoch:180\n",
            "loss:0.028588105945336933 after epoch:181\n",
            "loss:0.028585883287869766 after epoch:182\n",
            "loss:0.028580462217413016 after epoch:183\n",
            "loss:0.02857993087121791 after epoch:184\n",
            "loss:0.028588826254105654 after epoch:185\n",
            "loss:0.028606129938583184 after epoch:186\n",
            "loss:0.028626380622163834 after epoch:187\n",
            "loss:0.028643010534860933 after epoch:188\n",
            "loss:0.02865200260905174 after epoch:189\n",
            "loss:0.028653848937678465 after epoch:190\n",
            "loss:0.028652826705453917 after epoch:191\n",
            "loss:0.028654263219155807 after epoch:192\n",
            "loss:0.02866155265997992 after epoch:193\n",
            "loss:0.028674556839873033 after epoch:194\n",
            "loss:0.028690045049062765 after epoch:195\n",
            "loss:0.028703725567452296 after epoch:196\n",
            "loss:0.02871266371746982 after epoch:197\n",
            "loss:0.028716747618466956 after epoch:198\n",
            "loss:0.028718465997010247 after epoch:199\n",
            "final weights [ 0.29845883  0.03117226  0.13419415 -0.08509737 -0.03690154  0.25401432\n",
            "  0.00405003 -0.39420987  2.20483077]\n"
          ],
          "name": "stdout"
        },
        {
          "output_type": "display_data",
          "data": {
            "image/png": "[encoded data removed]",
            "text/plain": [
              "<Figure size 432x288 with 1 Axes>"
            ]
          },
          "metadata": {
            "tags": [],
            "needs_background": "light"
          }
        }
      ]
    },
    {
      "cell_type": "code",
      "metadata": {
        "colab": {
          "base_uri": "https://localhost:8080/"
        },
        "id": "Rt6AQaB19Lrd",
        "outputId": "35d2c0aa-11e2-4400-89fa-7c0b19f16ac2"
      },
      "source": [
        "a=np.random.normal(loc=0,scale=0.01,size=9)\n",
        "b=np.random.normal(loc=1,scale=0.01,size=9)\n",
        "a\n",
        "b\n",
        "a/np.sqrt(b+0.001)"
      ],
      "execution_count": null,
      "outputs": [
        {
          "output_type": "execute_result",
          "data": {
            "text/plain": [
              "array([-0.00868461,  0.00171314, -0.01528073,  0.00601352,  0.01268788,\n",
              "        0.00901479, -0.00143406,  0.00021176,  0.0024366 ])"
            ]
          },
          "metadata": {
            "tags": []
          },
          "execution_count": 75
        }
      ]
    },
    {
      "cell_type": "code",
      "metadata": {
        "colab": {
          "base_uri": "https://localhost:8080/"
        },
        "id": "yFgly6NNhyij",
        "outputId": "e40c63dc-ff9c-4d4f-ec71-b34ebe18f98a"
      },
      "source": [
        "X.shape"
      ],
      "execution_count": null,
      "outputs": [
        {
          "output_type": "execute_result",
          "data": {
            "text/plain": [
              "(506, 5)"
            ]
          },
          "metadata": {
            "tags": []
          },
          "execution_count": 76
        }
      ]
    },
    {
      "cell_type": "markdown",
      "metadata": {
        "id": "cv_hZFWalS2z"
      },
      "source": [
        "###<font color='blue'>Algorithm with Vanilla update of weights</font>"
      ]
    },
    {
      "cell_type": "code",
      "metadata": {
        "colab": {
          "base_uri": "https://localhost:8080/"
        },
        "id": "uucCdyQrGhZt",
        "outputId": "4f5662e8-b535-4465-e409-5fb6a3e64e41"
      },
      "source": [
        "##Adam Optimizer\n",
        "from tqdm import tqdm\n",
        "W=np.random.normal(loc=0,scale=0.01,size=9)\n",
        "epochs=50\n",
        "eta=0.001\n",
        "beta2=0.8\n",
        "beta1=0.9\n",
        "alpha=0.001\n",
        "eps=0.00001\n",
        "gamma=0.9\n",
        "V_old=0\n",
        "moment_old=0\n",
        "dict_loss={}\n",
        "for epoch in tqdm(range(1,epochs)):\n",
        "  print(\"epoch:{}\".format(epoch))\n",
        "  for i in range(X.shape[0]):\n",
        "   dict_fwd= forward_propagation(X[i],y[i],W)\n",
        "   dW_bw=backward_propagation(X[0],W,dict_fwd)\n",
        "   dW_old=np.array(list(dW_bw.values()))\n",
        "\n",
        "   V_new=beta2*V_old + (1-beta2)*(dW_old)**2\n",
        "   #print(\"V_new\",V_new)\n",
        "\n",
        "   moment_new=beta1*moment_old + (1-beta1)*dW_old\n",
        "   #print(\"moment_new\",moment_new)\n",
        "\n",
        "   moment_cap=moment_new/(1-beta1)\n",
        "   #print(\"moment_cap\",moment_cap)\n",
        "\n",
        "   V_cap=V_new/(1-beta2)\n",
        "   #print(\"V_cap\",V_cap)\n",
        "   \n",
        "   W_new=W - alpha*(moment_cap)/np.sqrt(V_cap+eps)\n",
        "   W=W_new\n",
        "   V_old=V_new\n",
        "   moment_old=moment_new\n",
        "  alpha*=0.88\n",
        "  Loss=dict_fwd['loss']\n",
        "  dict_loss[epoch]=Loss\n",
        "  print(\"Loss after epoch:{}\".format(epoch),Loss) \n",
        "print(\"\\nfinal weights\",W)"
      ],
      "execution_count": null,
      "outputs": [
        {
          "output_type": "stream",
          "text": [
            " 10%|█         | 5/49 [00:00<00:01, 41.94it/s]"
          ],
          "name": "stderr"
        },
        {
          "output_type": "stream",
          "text": [
            "epoch:1\n",
            "Loss after epoch:1 0.09352693760950283\n",
            "epoch:2\n",
            "Loss after epoch:2 0.07509606100499155\n",
            "epoch:3\n",
            "Loss after epoch:3 0.07293768586791173\n",
            "epoch:4\n",
            "Loss after epoch:4 0.14937501714388435\n",
            "epoch:5\n",
            "Loss after epoch:5 0.1543546669561961\n",
            "epoch:6\n",
            "Loss after epoch:6 0.09030413641335897\n",
            "epoch:7\n",
            "Loss after epoch:7 0.09694068993277408\n",
            "epoch:8\n",
            "Loss after epoch:8 0.12824279001007044\n",
            "epoch:9\n"
          ],
          "name": "stdout"
        },
        {
          "output_type": "stream",
          "text": [
            " 27%|██▋       | 13/49 [00:00<00:00, 38.45it/s]"
          ],
          "name": "stderr"
        },
        {
          "output_type": "stream",
          "text": [
            "Loss after epoch:9 0.14840760185770793\n",
            "epoch:10\n",
            "Loss after epoch:10 0.14457953287003034\n",
            "epoch:11\n",
            "Loss after epoch:11 0.1286846454533788\n",
            "epoch:12\n",
            "Loss after epoch:12 0.1058270906428028\n",
            "epoch:13\n",
            "Loss after epoch:13 0.0859081081546508\n",
            "epoch:14\n",
            "Loss after epoch:14 0.07067635368606559\n",
            "epoch:15\n",
            "Loss after epoch:15 0.060512428075627046\n",
            "epoch:16\n",
            "Loss after epoch:16 0.05384899704494425\n",
            "epoch:17\n"
          ],
          "name": "stdout"
        },
        {
          "output_type": "stream",
          "text": [
            " 45%|████▍     | 22/49 [00:00<00:00, 38.60it/s]"
          ],
          "name": "stderr"
        },
        {
          "output_type": "stream",
          "text": [
            "Loss after epoch:17 0.049507532416676325\n",
            "epoch:18\n",
            "Loss after epoch:18 0.046733758872789334\n",
            "epoch:19\n",
            "Loss after epoch:19 0.04501851696200995\n",
            "epoch:20\n",
            "Loss after epoch:20 0.044015473113934674\n",
            "epoch:21\n",
            "Loss after epoch:21 0.043487360017300476\n",
            "epoch:22\n",
            "Loss after epoch:22 0.043269887535624614\n",
            "epoch:23\n",
            "Loss after epoch:23 0.043247949993586006\n",
            "epoch:24\n",
            "Loss after epoch:24 0.043340109442745994\n",
            "epoch:25\n"
          ],
          "name": "stdout"
        },
        {
          "output_type": "stream",
          "text": [
            " 61%|██████    | 30/49 [00:00<00:00, 36.18it/s]"
          ],
          "name": "stderr"
        },
        {
          "output_type": "stream",
          "text": [
            "Loss after epoch:25 0.04348882349013252\n",
            "epoch:26\n",
            "Loss after epoch:26 0.04365752666173808\n",
            "epoch:27\n",
            "Loss after epoch:27 0.04384324592869579\n",
            "epoch:28\n",
            "Loss after epoch:28 0.04403341976884841\n",
            "epoch:29\n",
            "Loss after epoch:29 0.04419991806152901\n",
            "epoch:30\n",
            "Loss after epoch:30 0.04433943289821618\n",
            "epoch:31\n",
            "Loss after epoch:31 0.044453809563631305\n",
            "epoch:32\n",
            "Loss after epoch:32 0.044546373653377484\n",
            "epoch:33\n"
          ],
          "name": "stdout"
        },
        {
          "output_type": "stream",
          "text": [
            " 78%|███████▊  | 38/49 [00:01<00:00, 33.68it/s]"
          ],
          "name": "stderr"
        },
        {
          "output_type": "stream",
          "text": [
            "Loss after epoch:33 0.04462068192570217\n",
            "epoch:34\n",
            "Loss after epoch:34 0.044680029041220766\n",
            "epoch:35\n",
            "Loss after epoch:35 0.044727275254947844\n",
            "epoch:36\n",
            "Loss after epoch:36 0.044764817515699065\n",
            "epoch:37\n",
            "Loss after epoch:37 0.044794622193464105\n",
            "epoch:38\n",
            "Loss after epoch:38 0.044818280531784584\n",
            "epoch:39\n",
            "Loss after epoch:39 0.044837068505970225\n",
            "epoch:40\n"
          ],
          "name": "stdout"
        },
        {
          "output_type": "stream",
          "text": [
            " 94%|█████████▍| 46/49 [00:01<00:00, 33.14it/s]"
          ],
          "name": "stderr"
        },
        {
          "output_type": "stream",
          "text": [
            "Loss after epoch:40 0.044852002909382724\n",
            "epoch:41\n",
            "Loss after epoch:41 0.04486389050356798\n",
            "epoch:42\n",
            "Loss after epoch:42 0.044873369502048774\n",
            "epoch:43\n",
            "Loss after epoch:43 0.044880943779577055\n",
            "epoch:44\n",
            "Loss after epoch:44 0.044887010654623936\n",
            "epoch:45\n",
            "Loss after epoch:45 0.04489188321704792\n",
            "epoch:46\n",
            "Loss after epoch:46 0.0448958081394116\n",
            "epoch:47\n",
            "Loss after epoch:47 0.04489897980979461\n",
            "epoch:48\n"
          ],
          "name": "stdout"
        },
        {
          "output_type": "stream",
          "text": [
            "\r100%|██████████| 49/49 [00:01<00:00, 34.88it/s]"
          ],
          "name": "stderr"
        },
        {
          "output_type": "stream",
          "text": [
            "Loss after epoch:48 0.04490155150223019\n",
            "epoch:49\n",
            "Loss after epoch:49 0.04490364418062302\n",
            "\n",
            "final weights [-0.18406522  0.32656603 -0.23013262  0.23231552  0.17285598  0.76164805\n",
            "  0.6765513   0.92512489  1.12900596]\n"
          ],
          "name": "stdout"
        },
        {
          "output_type": "stream",
          "text": [
            "\n"
          ],
          "name": "stderr"
        }
      ]
    },
    {
      "cell_type": "markdown",
      "metadata": {
        "id": "Ow20azfKlVhn"
      },
      "source": [
        "<font color='blue'>Plot between epochs and loss</font>"
      ]
    },
    {
      "cell_type": "markdown",
      "metadata": {
        "id": "V4RWWrZ7lWap"
      },
      "source": [
        "###<font color='blue'>Algorithm with Vanilla update of weights</font>"
      ]
    },
    {
      "cell_type": "code",
      "metadata": {
        "colab": {
          "base_uri": "https://localhost:8080/",
          "height": 295
        },
        "id": "72rRC8rJGhf5",
        "outputId": "33199d68-bd1e-4c0d-9d7e-c0b5aee44e31"
      },
      "source": [
        "#PLOT LOSS VS EPOCH CURVE\n",
        "import matplotlib.pyplot as plt\n",
        "plt.grid()\n",
        "plt.plot(np.arange(1,50),np.array(list(dict_loss.values())),'bo-',label='Loss',linewidth=1)\n",
        "plt.xlabel('Epoch No')\n",
        "plt.ylabel('Loss')\n",
        "plt.title('Loss vs Epoch')\n",
        "plt.legend()\n",
        "plt.show()"
      ],
      "execution_count": null,
      "outputs": [
        {
          "output_type": "display_data",
          "data": {
            "image/png": "[encoded data removed]",
            "text/plain": [
              "<Figure size 432x288 with 1 Axes>"
            ]
          },
          "metadata": {
            "tags": [],
            "needs_background": "light"
          }
        }
      ]
    },
    {
      "cell_type": "markdown",
      "metadata": {
        "id": "MMy0nBw-lXml"
      },
      "source": [
        "<font color='blue'>Plot between epochs and loss</font>"
      ]
    },
    {
      "cell_type": "code",
      "metadata": {
        "id": "aiFRk_uFlm2V"
      },
      "source": [
        ""
      ],
      "execution_count": null,
      "outputs": []
    },
    {
      "cell_type": "markdown",
      "metadata": {
        "id": "7627cy8YlnYO"
      },
      "source": [
        "<font color='blue'>Comparision plot between epochs and loss with different optimizers</font>"
      ]
    },
    {
      "cell_type": "code",
      "metadata": {
        "id": "scleSfIXl_bC"
      },
      "source": [
        ""
      ],
      "execution_count": null,
      "outputs": []
    },
    {
      "cell_type": "code",
      "metadata": {
        "id": "lfXSaOP8rjBY"
      },
      "source": [
        ""
      ],
      "execution_count": null,
      "outputs": []
    }
  ]
}